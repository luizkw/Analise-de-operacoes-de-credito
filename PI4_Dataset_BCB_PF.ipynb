{
 "cells": [
  {
   "cell_type": "code",
   "execution_count": 36,
   "id": "04c972e3-6501-4f41-b2f6-e1736c1601a8",
   "metadata": {},
   "outputs": [],
   "source": [
    "# importando as bibliotecas\n",
    "import pandas as pd\n",
    "import numpy as np\n",
    "import matplotlib.pyplot as plt\n",
    "import seaborn as sns\n",
    "from sklearn.metrics import accuracy_score\n",
    "from sklearn.metrics import classification_report"
   ]
  },
  {
   "cell_type": "markdown",
   "id": "fd20e9e2-8022-4828-b31e-db92f4f1a87e",
   "metadata": {},
   "source": [
    "O dataset é disponibilizado pelo Banco Central do Brasil, em sua página de dados abertos, no endereço: https://dadosabertos.bcb.gov.br/dataset/scr_data\n",
    "\n",
    "Os dados são disponibilizados em arquivos mensais, por ano de referência. Neste trabalho, baixamos os dados de 2012 e selecionamos o arquivo do mês de dezembro de 2022.\n",
    "\n",
    "Como se trata de uma base de dados grande (mais de 800 mil registros, em cada arquivo mensal), optamos por trabalhar somente com os dados das operações de crédito Pessoa Física (embora o arquivo possua também os dados de operações para Pessoa Jurídica).\n",
    "\n",
    "Dada a extensão dessa base, ela não roda bem se carregado localmente, como no Jupyter ou no Visual Studio Code, sendo mais adequado o Google Colab, podendo demorar vários minutos para a carga dos dados. Optamos, portanto, por carregar inicialmente os dados em Excel, eliminar os dados de Pessoas Jurídicas, e salvá-los localmente, carregando no IDE os dados já pré-filtrados, para contemplar somente os dados de Pessoas Físicas.\n"
   ]
  },
  {
   "cell_type": "code",
   "execution_count": 37,
   "id": "b5a1169c-b812-4eb9-babc-a9073cd4a36d",
   "metadata": {},
   "outputs": [],
   "source": [
    "# importando o dataset\n",
    "dados = pd.read_excel(\"C:/Users/LUIZK/Dataset BCB Credito/planilha_202212PF.xlsx\")"
   ]
  },
  {
   "cell_type": "code",
   "execution_count": 38,
   "id": "7ae4047b-e8ab-4a7c-bde2-adc486436136",
   "metadata": {},
   "outputs": [
    {
     "data": {
      "text/html": [
       "<div>\n",
       "<style scoped>\n",
       "    .dataframe tbody tr th:only-of-type {\n",
       "        vertical-align: middle;\n",
       "    }\n",
       "\n",
       "    .dataframe tbody tr th {\n",
       "        vertical-align: top;\n",
       "    }\n",
       "\n",
       "    .dataframe thead th {\n",
       "        text-align: right;\n",
       "    }\n",
       "</style>\n",
       "<table border=\"1\" class=\"dataframe\">\n",
       "  <thead>\n",
       "    <tr style=\"text-align: right;\">\n",
       "      <th></th>\n",
       "      <th>data_base</th>\n",
       "      <th>uf</th>\n",
       "      <th>tcb</th>\n",
       "      <th>sr</th>\n",
       "      <th>cliente</th>\n",
       "      <th>ocupacao</th>\n",
       "      <th>cnae_secao</th>\n",
       "      <th>cnae_subclasse</th>\n",
       "      <th>porte</th>\n",
       "      <th>modalidade</th>\n",
       "      <th>...</th>\n",
       "      <th>a_vencer_ate_90_dias</th>\n",
       "      <th>a_vencer_de_91_ate_360_dias</th>\n",
       "      <th>a_vencer_de_361_ate_1080_dias</th>\n",
       "      <th>a_vencer_de_1081_ate_1800_dias</th>\n",
       "      <th>a_vencer_de_1801_ate_5400_dias</th>\n",
       "      <th>a_vencer_acima_de_5400_dias</th>\n",
       "      <th>vencido_acima_de_15_dias</th>\n",
       "      <th>carteira_ativa</th>\n",
       "      <th>carteira_inadimplida_arrastada</th>\n",
       "      <th>ativo_problematico</th>\n",
       "    </tr>\n",
       "  </thead>\n",
       "  <tbody>\n",
       "    <tr>\n",
       "      <th>0</th>\n",
       "      <td>2022-12-31</td>\n",
       "      <td>AC</td>\n",
       "      <td>Bancário</td>\n",
       "      <td>S1</td>\n",
       "      <td>PF</td>\n",
       "      <td>PF - Aposentado/pensionista</td>\n",
       "      <td>-</td>\n",
       "      <td>-</td>\n",
       "      <td>PF - Acima de 20 salários mínimos</td>\n",
       "      <td>PF - Cartão de crédito</td>\n",
       "      <td>...</td>\n",
       "      <td>722.65</td>\n",
       "      <td>12689.82</td>\n",
       "      <td>0.00</td>\n",
       "      <td>0.00</td>\n",
       "      <td>0.00</td>\n",
       "      <td>0.0</td>\n",
       "      <td>2813.38</td>\n",
       "      <td>16225.85</td>\n",
       "      <td>0.00</td>\n",
       "      <td>0.00</td>\n",
       "    </tr>\n",
       "    <tr>\n",
       "      <th>1</th>\n",
       "      <td>2022-12-31</td>\n",
       "      <td>AC</td>\n",
       "      <td>Bancário</td>\n",
       "      <td>S1</td>\n",
       "      <td>PF</td>\n",
       "      <td>PF - Aposentado/pensionista</td>\n",
       "      <td>-</td>\n",
       "      <td>-</td>\n",
       "      <td>PF - Acima de 20 salários mínimos</td>\n",
       "      <td>PF - Cartão de crédito</td>\n",
       "      <td>...</td>\n",
       "      <td>4990017.63</td>\n",
       "      <td>1242329.92</td>\n",
       "      <td>152609.36</td>\n",
       "      <td>31858.72</td>\n",
       "      <td>0.00</td>\n",
       "      <td>0.0</td>\n",
       "      <td>328556.06</td>\n",
       "      <td>6745371.69</td>\n",
       "      <td>123984.25</td>\n",
       "      <td>260087.11</td>\n",
       "    </tr>\n",
       "    <tr>\n",
       "      <th>2</th>\n",
       "      <td>2022-12-31</td>\n",
       "      <td>AC</td>\n",
       "      <td>Bancário</td>\n",
       "      <td>S1</td>\n",
       "      <td>PF</td>\n",
       "      <td>PF - Aposentado/pensionista</td>\n",
       "      <td>-</td>\n",
       "      <td>-</td>\n",
       "      <td>PF - Acima de 20 salários mínimos</td>\n",
       "      <td>PF - Empréstimo com consignação em folha</td>\n",
       "      <td>...</td>\n",
       "      <td>1835015.57</td>\n",
       "      <td>4824698.55</td>\n",
       "      <td>12174468.74</td>\n",
       "      <td>10039746.09</td>\n",
       "      <td>11094339.68</td>\n",
       "      <td>0.0</td>\n",
       "      <td>76894.25</td>\n",
       "      <td>40045162.88</td>\n",
       "      <td>567775.56</td>\n",
       "      <td>653774.53</td>\n",
       "    </tr>\n",
       "  </tbody>\n",
       "</table>\n",
       "<p>3 rows × 23 columns</p>\n",
       "</div>"
      ],
      "text/plain": [
       "   data_base  uf       tcb  sr cliente                     ocupacao  \\\n",
       "0 2022-12-31  AC  Bancário  S1      PF  PF - Aposentado/pensionista   \n",
       "1 2022-12-31  AC  Bancário  S1      PF  PF - Aposentado/pensionista   \n",
       "2 2022-12-31  AC  Bancário  S1      PF  PF - Aposentado/pensionista   \n",
       "\n",
       "  cnae_secao cnae_subclasse                                          porte  \\\n",
       "0          -              -  PF - Acima de 20 salários mínimos               \n",
       "1          -              -  PF - Acima de 20 salários mínimos               \n",
       "2          -              -  PF - Acima de 20 salários mínimos               \n",
       "\n",
       "                                 modalidade  ... a_vencer_ate_90_dias  \\\n",
       "0                    PF - Cartão de crédito  ...               722.65   \n",
       "1                    PF - Cartão de crédito  ...           4990017.63   \n",
       "2  PF - Empréstimo com consignação em folha  ...           1835015.57   \n",
       "\n",
       "  a_vencer_de_91_ate_360_dias a_vencer_de_361_ate_1080_dias  \\\n",
       "0                    12689.82                          0.00   \n",
       "1                  1242329.92                     152609.36   \n",
       "2                  4824698.55                   12174468.74   \n",
       "\n",
       "   a_vencer_de_1081_ate_1800_dias  a_vencer_de_1801_ate_5400_dias  \\\n",
       "0                            0.00                            0.00   \n",
       "1                        31858.72                            0.00   \n",
       "2                     10039746.09                     11094339.68   \n",
       "\n",
       "   a_vencer_acima_de_5400_dias  vencido_acima_de_15_dias  carteira_ativa  \\\n",
       "0                          0.0                   2813.38        16225.85   \n",
       "1                          0.0                 328556.06      6745371.69   \n",
       "2                          0.0                  76894.25     40045162.88   \n",
       "\n",
       "   carteira_inadimplida_arrastada  ativo_problematico  \n",
       "0                            0.00                0.00  \n",
       "1                       123984.25           260087.11  \n",
       "2                       567775.56           653774.53  \n",
       "\n",
       "[3 rows x 23 columns]"
      ]
     },
     "execution_count": 38,
     "metadata": {},
     "output_type": "execute_result"
    }
   ],
   "source": [
    "# visualizando o dataset\n",
    "dados.head(3)"
   ]
  },
  {
   "cell_type": "code",
   "execution_count": 39,
   "id": "afe0e3b9-3185-47f5-8557-7f5803852ab8",
   "metadata": {},
   "outputs": [],
   "source": [
    "# renomeando a coluna 'porte' para 'renda'\n",
    "\n",
    "dados.rename(columns={'porte' : 'renda'}, inplace=True)"
   ]
  },
  {
   "cell_type": "code",
   "execution_count": 40,
   "id": "c5ad488f-b3b7-41f0-9a53-c80b0ff88635",
   "metadata": {},
   "outputs": [
    {
     "data": {
      "text/plain": [
       "(135855, 23)"
      ]
     },
     "execution_count": 40,
     "metadata": {},
     "output_type": "execute_result"
    }
   ],
   "source": [
    "# identificando o número de instâncias e de atributos\n",
    "dados.shape"
   ]
  },
  {
   "cell_type": "code",
   "execution_count": 41,
   "id": "c3ba3f2c-41fe-4a39-8103-1bab1cee583b",
   "metadata": {},
   "outputs": [
    {
     "name": "stdout",
     "output_type": "stream",
     "text": [
      "data_base                            0\n",
      "uf                                   0\n",
      "tcb                                  0\n",
      "sr                                3831\n",
      "cliente                              0\n",
      "ocupacao                             0\n",
      "cnae_secao                           0\n",
      "cnae_subclasse                       0\n",
      "renda                                0\n",
      "modalidade                           0\n",
      "origem                               0\n",
      "indexador                            0\n",
      "numero_de_operacoes                  0\n",
      "a_vencer_ate_90_dias                 0\n",
      "a_vencer_de_91_ate_360_dias          0\n",
      "a_vencer_de_361_ate_1080_dias        0\n",
      "a_vencer_de_1081_ate_1800_dias       0\n",
      "a_vencer_de_1801_ate_5400_dias       0\n",
      "a_vencer_acima_de_5400_dias          0\n",
      "vencido_acima_de_15_dias             0\n",
      "carteira_ativa                       0\n",
      "carteira_inadimplida_arrastada       0\n",
      "ativo_problematico                   0\n",
      "dtype: int64\n"
     ]
    }
   ],
   "source": [
    "# procurando por valores nulos\n",
    "print(dados.isnull().sum())"
   ]
  },
  {
   "cell_type": "markdown",
   "id": "92688373-6f38-41fc-b5f1-7b2f750af9cf",
   "metadata": {},
   "source": [
    "Verificamos que o único campo com valores nulos é o \"sr\". Segundo a metodologia do documento \"SCR.Data\" do Banco Central, na descrição dos campos, \"SR\" é definido como o segmento em que a instituição atua, sendo 5 as classes (S1, S2, S3, S4 e S5). Estas classes dizem respeito basicamente ao porte do banco, sendo S1 o maior, e S5 o menor. Dado que valores nulos podem trazer problemas por ocasião da execução do código, e os campos com \"SR\" nulo são pouco representativos (3831/135855, ou 2,82%), entendemos que poderemos excluir estes registros, sem prejuízos à análise dos dados."
   ]
  },
  {
   "cell_type": "code",
   "execution_count": 42,
   "id": "16990bdc-1456-45a5-b2b2-8474521aa984",
   "metadata": {},
   "outputs": [
    {
     "data": {
      "text/plain": [
       "(132024, 23)"
      ]
     },
     "execution_count": 42,
     "metadata": {},
     "output_type": "execute_result"
    }
   ],
   "source": [
    "# eliminando os registros com o atributo \"sr\" nulo\n",
    "dados_clean = dados.dropna(axis=0)\n",
    "dados_clean.shape"
   ]
  },
  {
   "cell_type": "code",
   "execution_count": 43,
   "id": "609d7f33-3838-47bf-b88b-cab8d85021e6",
   "metadata": {},
   "outputs": [
    {
     "name": "stdout",
     "output_type": "stream",
     "text": [
      "<class 'pandas.core.frame.DataFrame'>\n",
      "Int64Index: 132024 entries, 0 to 135854\n",
      "Data columns (total 23 columns):\n",
      " #   Column                          Non-Null Count   Dtype         \n",
      "---  ------                          --------------   -----         \n",
      " 0   data_base                       132024 non-null  datetime64[ns]\n",
      " 1   uf                              132024 non-null  object        \n",
      " 2   tcb                             132024 non-null  object        \n",
      " 3   sr                              132024 non-null  object        \n",
      " 4   cliente                         132024 non-null  object        \n",
      " 5   ocupacao                        132024 non-null  object        \n",
      " 6   cnae_secao                      132024 non-null  object        \n",
      " 7   cnae_subclasse                  132024 non-null  object        \n",
      " 8   renda                           132024 non-null  object        \n",
      " 9   modalidade                      132024 non-null  object        \n",
      " 10  origem                          132024 non-null  object        \n",
      " 11  indexador                       132024 non-null  object        \n",
      " 12  numero_de_operacoes             132024 non-null  object        \n",
      " 13  a_vencer_ate_90_dias            132024 non-null  float64       \n",
      " 14  a_vencer_de_91_ate_360_dias     132024 non-null  float64       \n",
      " 15  a_vencer_de_361_ate_1080_dias   132024 non-null  float64       \n",
      " 16  a_vencer_de_1081_ate_1800_dias  132024 non-null  float64       \n",
      " 17  a_vencer_de_1801_ate_5400_dias  132024 non-null  float64       \n",
      " 18  a_vencer_acima_de_5400_dias     132024 non-null  float64       \n",
      " 19  vencido_acima_de_15_dias        132024 non-null  float64       \n",
      " 20  carteira_ativa                  132024 non-null  float64       \n",
      " 21  carteira_inadimplida_arrastada  132024 non-null  float64       \n",
      " 22  ativo_problematico              132024 non-null  float64       \n",
      "dtypes: datetime64[ns](1), float64(10), object(12)\n",
      "memory usage: 24.2+ MB\n",
      "None\n"
     ]
    }
   ],
   "source": [
    "# verificando o tipo dos atributos\n",
    "print(dados_clean.info())"
   ]
  },
  {
   "cell_type": "markdown",
   "id": "1425f0ef-ab0a-447c-9f0b-9d4d99c5004c",
   "metadata": {},
   "source": [
    "Verificamos também que o campo \"numero_de_operacoes\" possui um amplitude muito grande, que vai de \"<=15\" até 9.769.514. Isto revela que cada registro não contém informações somente de uma única operação ou de um único tomador (até porque um tomador não conseguiria contratar 9 milhões de operações de crédito!). \n",
    "\n",
    "Ao analisar a documentação do \"SCR.Data - Painel de Operações de Crédito\", em sua introdução, verificamos que os dados apresentados tratam-se de informações agregadas. Ou seja, a instituição financeira pode encaminhar os dados agregados de diversas operações que tenham as mesmas características (por exemplo, 'ocupacao', 'porte', 'modalidade', 'indexador' etc).\n",
    "\n",
    "Experimentaremos, portanto, trabalhar somente com os registros que tenham o campo 'numero_de_operacoes' preenchido com a informação '<=15', pois desta forma é o dado que mais se aproxima do perfil individualizado do tomadro do crédito.\n"
   ]
  },
  {
   "cell_type": "code",
   "execution_count": 44,
   "id": "719a0a4f-6554-4d00-83c0-39c0263b04ab",
   "metadata": {},
   "outputs": [
    {
     "data": {
      "text/plain": [
       "<= 15    62205\n",
       "16         965\n",
       "17         957\n",
       "18         867\n",
       "19         824\n",
       "         ...  \n",
       "19769        1\n",
       "12539        1\n",
       "97049        1\n",
       "24961        1\n",
       "4362         1\n",
       "Name: numero_de_operacoes, Length: 12221, dtype: int64"
      ]
     },
     "execution_count": 44,
     "metadata": {},
     "output_type": "execute_result"
    }
   ],
   "source": [
    "dados_clean['numero_de_operacoes'].value_counts()"
   ]
  },
  {
   "cell_type": "code",
   "execution_count": 45,
   "id": "0b5780e8-e6e3-4693-8649-735b75e3c042",
   "metadata": {},
   "outputs": [
    {
     "data": {
      "text/plain": [
       "(62205, 23)"
      ]
     },
     "execution_count": 45,
     "metadata": {},
     "output_type": "execute_result"
    }
   ],
   "source": [
    "dados_clean = dados_clean[dados_clean[\"numero_de_operacoes\"] == \"<= 15\"]\n",
    "dados_clean.shape"
   ]
  },
  {
   "cell_type": "code",
   "execution_count": 46,
   "id": "2b1f4eb3-bf81-4623-8729-ed29941973f8",
   "metadata": {},
   "outputs": [],
   "source": [
    "# criando uma coluna para a classe \"inadimplente\"\n",
    "# dado que o dataset não define quem seria inadimplente, consideramos quem \n",
    "# possuía 'ativo_problemático' > 0 como inadimplente.\n",
    "# segundo a metodologia do \"Painel de Operações de Crédito\" do SCR.data, \"ativo problemático\"\n",
    "# é o somatório dos créditos das operações de crédito classificadas com risco entre E e H, \n",
    "# operações reestruturadas e das operações consideradas na carteira inadimplida arrastada (\"operações\n",
    "# de crédito a vencer e vencidos que possuam alguma parcela vencida há mais de 90 dias\").\n",
    "\n",
    "inadimplente = [i if i == 0 else 1 for i in dados_clean['ativo_problematico']]\n",
    "dados_clean['inadimplente'] = inadimplente"
   ]
  },
  {
   "cell_type": "code",
   "execution_count": 47,
   "id": "1e983a8c-adba-49e0-98e0-13d6406d7208",
   "metadata": {},
   "outputs": [],
   "source": [
    "# criando um dataframe de adimplentes e outro de inadimplentes\n",
    "adimplentes = dados_clean[dados_clean['inadimplente'] == 0.0]\n",
    "inadimplentes = dados_clean[dados_clean['inadimplente'] == 1.0]"
   ]
  },
  {
   "cell_type": "code",
   "execution_count": 48,
   "id": "685c3382-8a42-4b6c-af2b-8ed77709cd6b",
   "metadata": {},
   "outputs": [
    {
     "name": "stdout",
     "output_type": "stream",
     "text": [
      "Proporção de clientes adimplentes  : 42815 68.83%\n",
      "Proporção de clientes inadimplentes: 19390 31.17%\n"
     ]
    }
   ],
   "source": [
    "# calculando a proporção de inadimplentes\n",
    "total, _ = dados_clean.shape\n",
    "total_adimplentes, _ = dados_clean[dados_clean['inadimplente'] == 0.0].shape\n",
    "total_inadimplentes, _ = dados_clean[dados_clean['inadimplente'] == 1.0].shape\n",
    "print(f\"Proporção de clientes adimplentes  : {total_adimplentes} {round(100 * total_adimplentes / total, 2)}%\")\n",
    "print(f\"Proporção de clientes inadimplentes: {total_inadimplentes} {round(100 * total_inadimplentes / total, 2)}%\")"
   ]
  },
  {
   "cell_type": "markdown",
   "id": "104e521e-ad47-4b20-8c2a-3e65aa673956",
   "metadata": {},
   "source": [
    "Note que a proporção de 31% de clientes inadimplentes é muito alta, o que não parece razoável.\n",
    "Porém, antes de enfrentarmos este problema, faremos uma análise de alguns atributos, para verificar o seu maior ou menor impacto sobre o resultado da inadimplência.\n",
    "Faremos uma análise prévia dos atributos categóricos \"uf\", \"sr\", \"ocupacao\", \"renda\", \"modalidade\" e \"indexador\"."
   ]
  },
  {
   "cell_type": "code",
   "execution_count": 49,
   "id": "d69f6f69-de80-4044-a78f-f031c04b214c",
   "metadata": {},
   "outputs": [
    {
     "name": "stdout",
     "output_type": "stream",
     "text": [
      "    % População  % Inadimplência\n",
      "AC     2.679849         3.053120\n",
      "AL     2.940278         3.367715\n",
      "AM     2.895266         3.383187\n",
      "AP     2.290813         3.120165\n",
      "BA     4.216703         4.492006\n",
      "CE     3.334137         3.563693\n",
      "DF     3.891970         3.986591\n",
      "ES     4.060767         4.043321\n",
      "GO     4.387107         4.089737\n",
      "MA     3.477212         3.630737\n",
      "MG     5.006028         4.218669\n",
      "MS     3.930552         3.398659\n",
      "MT     4.136323         3.630737\n",
      "PA     3.519010         3.955647\n",
      "PB     3.025480         3.145952\n",
      "PE     3.305201         3.687468\n",
      "PI     2.904911         3.310985\n",
      "PR     4.994775         4.218669\n",
      "RJ     4.264930         4.296029\n",
      "RN     2.824532         3.197524\n",
      "RO     3.388795         3.264569\n",
      "RR     2.427458         3.022176\n",
      "RS     5.158749         4.424961\n",
      "SC     5.287356         4.528107\n",
      "SE     3.035126         3.347086\n",
      "SP     5.308255         4.368231\n",
      "TO     3.308416         3.254255\n"
     ]
    }
   ],
   "source": [
    "# analisando o atributo 'uf'\n",
    "# categorias ordenadas\n",
    "categorias_ordenadas = ['AC', 'AL', 'AM', 'AP', 'BA', 'CE', 'DF', 'ES', 'GO', 'MA', 'MG', 'MS', 'MT', 'PA',\n",
    "                        'PB', 'PE', 'PI', 'PR', 'RJ', 'RN', 'RO', 'RR', 'RS', 'SC', 'SE', 'SP', 'TO']\n",
    "\n",
    "# Tabela com distribuição de população por categoria\n",
    "populacao_por_categoria = dados_clean['uf'].value_counts(normalize=True) * 100\n",
    "populacao_por_categoria = populacao_por_categoria.reindex(categorias_ordenadas)\n",
    "\n",
    "# Tabela com distribuição de inadimplência por categoria\n",
    "distribuicao_inadimplencia = inadimplentes['uf'].value_counts(normalize=True) * 100\n",
    "distribuicao_inadimplencia = distribuicao_inadimplencia.reindex(categorias_ordenadas)\n",
    "\n",
    "populacao = pd.DataFrame({'% População': populacao_por_categoria})\n",
    "inadimplencia = pd.DataFrame({'% Inadimplência': distribuicao_inadimplencia})\n",
    "\n",
    "# juntando as duas tabelas\n",
    "tabela = pd.concat([populacao, inadimplencia], axis=1)\n",
    "tabela = tabela.loc[categorias_ordenadas]\n",
    "print(tabela)"
   ]
  },
  {
   "cell_type": "code",
   "execution_count": 50,
   "id": "1202dadc-d082-4cfa-afb0-1556967fd5e2",
   "metadata": {},
   "outputs": [
    {
     "data": {
      "image/png": "[encoded data removed]",
      "text/plain": [
       "<Figure size 432x288 with 1 Axes>"
      ]
     },
     "metadata": {
      "needs_background": "light"
     },
     "output_type": "display_data"
    }
   ],
   "source": [
    "# plotando os dados de população e inadimplência por categoria de ocupação\n",
    "\n",
    "# Define a largura das barras e a posição dos grupos no eixo x\n",
    "bar_width = 0.25\n",
    "r1 = np.arange(len(categorias_ordenadas))\n",
    "r2 = [x + bar_width for x in r1]\n",
    "\n",
    "# Cria a figura e os eixos\n",
    "fig, ax = plt.subplots()\n",
    "\n",
    "# Plota as barras de população e inadimplência\n",
    "populacao_bars = ax.bar(r1, populacao_por_categoria, color='blue', width=bar_width, label='População')\n",
    "inadimplencia_bars = ax.bar(r2, distribuicao_inadimplencia, color='orange', width=bar_width, label='Inadimplência')\n",
    "\n",
    "# Adiciona rótulos, títulos e legendas ao gráfico\n",
    "ax.set_xlabel('UF')\n",
    "ax.set_ylabel('Percentual')\n",
    "ax.set_title('Distribuição da população e inadimplência por UF')\n",
    "ax.set_xticks([r + bar_width / 2 for r in range(len(categorias_ordenadas))])\n",
    "ax.set_xticklabels(categorias_ordenadas, rotation=90)\n",
    "ax.legend()\n",
    "\n",
    "# Exibição do gráfico\n",
    "plt.show()"
   ]
  },
  {
   "cell_type": "code",
   "execution_count": 51,
   "id": "1d728d65-e398-4587-85d1-716806e55a6a",
   "metadata": {},
   "outputs": [
    {
     "name": "stdout",
     "output_type": "stream",
     "text": [
      "    % População  % Inadimplência\n",
      "S1    23.501326        29.845281\n",
      "S2     8.160116        11.629706\n",
      "S3    24.422474        20.154719\n",
      "S4    23.065670        18.932439\n",
      "S5    20.850414        19.437855\n"
     ]
    }
   ],
   "source": [
    "# analisando o atributo 'sr', que se refere ao porte da instituição\n",
    "# categorias ordenadas\n",
    "categorias_ordenadas = ['S1', 'S2', 'S3', 'S4', 'S5']\n",
    "\n",
    "# Tabela com distribuição de população por categoria\n",
    "populacao_por_categoria = dados_clean['sr'].value_counts(normalize=True) * 100\n",
    "populacao_por_categoria = populacao_por_categoria.reindex(categorias_ordenadas)\n",
    "\n",
    "# Tabela com distribuição de inadimplência por categoria\n",
    "distribuicao_inadimplencia = inadimplentes['sr'].value_counts(normalize=True) * 100\n",
    "distribuicao_inadimplencia = distribuicao_inadimplencia.reindex(categorias_ordenadas)\n",
    "\n",
    "populacao = pd.DataFrame({'% População': populacao_por_categoria})\n",
    "inadimplencia = pd.DataFrame({'% Inadimplência': distribuicao_inadimplencia})\n",
    "\n",
    "# juntando as duas tabelas\n",
    "tabela = pd.concat([populacao, inadimplencia], axis=1)\n",
    "tabela = tabela.loc[categorias_ordenadas]\n",
    "print(tabela)"
   ]
  },
  {
   "cell_type": "code",
   "execution_count": 52,
   "id": "3d9486ec-4454-4991-a3f1-6c5e6257aadd",
   "metadata": {},
   "outputs": [
    {
     "data": {
      "image/png": "[encoded data removed]",
      "text/plain": [
       "<Figure size 432x288 with 1 Axes>"
      ]
     },
     "metadata": {
      "needs_background": "light"
     },
     "output_type": "display_data"
    }
   ],
   "source": [
    "# plotando os dados de população e inadimplência por categoria de ocupação\n",
    "\n",
    "# Define a largura das barras e a posição dos grupos no eixo x\n",
    "bar_width = 0.35\n",
    "r1 = np.arange(len(categorias_ordenadas))\n",
    "r2 = [x + bar_width for x in r1]\n",
    "\n",
    "# Cria a figura e os eixos\n",
    "fig, ax = plt.subplots()\n",
    "\n",
    "# Plota as barras de população e inadimplência\n",
    "populacao_bars = ax.bar(r1, populacao_por_categoria, color='blue', width=bar_width, label='População')\n",
    "inadimplencia_bars = ax.bar(r2, distribuicao_inadimplencia, color='orange', width=bar_width, label='Inadimplência')\n",
    "\n",
    "# Adiciona rótulos, títulos e legendas ao gráfico\n",
    "ax.set_xlabel('SR')\n",
    "ax.set_ylabel('Percentual')\n",
    "ax.set_title('Distribuição da população e inadimplência por SR (porte da instituição)')\n",
    "ax.set_xticks([r + bar_width / 2 for r in range(len(categorias_ordenadas))])\n",
    "ax.set_xticklabels(categorias_ordenadas, rotation=90)\n",
    "ax.legend()\n",
    "\n",
    "# Exibição do gráfico\n",
    "plt.show()"
   ]
  },
  {
   "cell_type": "code",
   "execution_count": 53,
   "id": "62febda3-c341-487f-992a-83b466dce417",
   "metadata": {},
   "outputs": [
    {
     "name": "stdout",
     "output_type": "stream",
     "text": [
      "                                                 % População  % Inadimplência\n",
      "PF - Servidor ou empregado público                 12.952335        12.037133\n",
      "PF - Empregado de entidades sem fins lucrativos     7.356322         6.683858\n",
      "PF - Empregado de empresa privada                  13.558396        13.068592\n",
      "PF - Aposentado/pensionista                        12.235351        11.660650\n",
      "PF - Autônomo                                      14.114621        14.373388\n",
      "PF - Empresário                                    14.833213        14.631253\n",
      "PF - MEI                                            9.793425        11.356369\n",
      "PF - Outros                                        15.156338        16.188757\n"
     ]
    }
   ],
   "source": [
    "# analisando o atributo 'ocupacao'\n",
    "# categorias ordenadas\n",
    "categorias_ordenadas = ['PF - Servidor ou empregado público',\n",
    "                        'PF - Empregado de entidades sem fins lucrativos',\n",
    "                        'PF - Empregado de empresa privada',\n",
    "                        'PF - Aposentado/pensionista',\n",
    "                        'PF - Autônomo',\n",
    "                        'PF - Empresário',\n",
    "                        'PF - MEI',\n",
    "                        'PF - Outros']\n",
    "\n",
    "# Tabela com distribuição de população por categoria\n",
    "populacao_por_categoria = dados_clean['ocupacao'].value_counts(normalize=True) * 100\n",
    "populacao_por_categoria = populacao_por_categoria.reindex(categorias_ordenadas)\n",
    "\n",
    "# Tabela com distribuição de inadimplência por categoria\n",
    "distribuicao_inadimplencia = inadimplentes['ocupacao'].value_counts(normalize=True) * 100\n",
    "distribuicao_inadimplencia = distribuicao_inadimplencia.reindex(categorias_ordenadas)\n",
    "\n",
    "populacao = pd.DataFrame({'% População': populacao_por_categoria})\n",
    "inadimplencia = pd.DataFrame({'% Inadimplência': distribuicao_inadimplencia})\n",
    "\n",
    "# juntando as duas tabelas\n",
    "tabela = pd.concat([populacao, inadimplencia], axis=1)\n",
    "tabela = tabela.loc[categorias_ordenadas]\n",
    "print(tabela)"
   ]
  },
  {
   "cell_type": "code",
   "execution_count": 54,
   "id": "71b59558-2de2-47ff-925f-8373e30c85cd",
   "metadata": {},
   "outputs": [
    {
     "data": {
      "image/png": "[encoded data removed]",
      "text/plain": [
       "<Figure size 432x288 with 1 Axes>"
      ]
     },
     "metadata": {
      "needs_background": "light"
     },
     "output_type": "display_data"
    }
   ],
   "source": [
    "# plotando os dados de população e inadimplência por categoria de ocupação\n",
    "\n",
    "# Define a largura das barras e a posição dos grupos no eixo x\n",
    "bar_width = 0.35\n",
    "r1 = np.arange(len(categorias_ordenadas))\n",
    "r2 = [x + bar_width for x in r1]\n",
    "\n",
    "# Cria a figura e os eixos\n",
    "fig, ax = plt.subplots()\n",
    "\n",
    "# Plota as barras de população e inadimplência\n",
    "populacao_bars = ax.bar(r1, populacao_por_categoria, color='blue', width=bar_width, label='População')\n",
    "inadimplencia_bars = ax.bar(r2, distribuicao_inadimplencia, color='orange', width=bar_width, label='Inadimplência')\n",
    "\n",
    "# Adiciona rótulos, títulos e legendas ao gráfico\n",
    "ax.set_xlabel('Ocupação')\n",
    "ax.set_ylabel('Percentual')\n",
    "ax.set_title('Distribuição da população e inadimplência por Ocupação')\n",
    "ax.set_xticks([r + bar_width / 2 for r in range(len(categorias_ordenadas))])\n",
    "ax.set_xticklabels(categorias_ordenadas, rotation=90)\n",
    "ax.legend()\n",
    "\n",
    "# Exibição do gráfico\n",
    "plt.show()"
   ]
  },
  {
   "cell_type": "code",
   "execution_count": 55,
   "id": "190ba770-acfa-4fa9-9ef8-fc688d5e3ce7",
   "metadata": {},
   "outputs": [
    {
     "name": "stdout",
     "output_type": "stream",
     "text": [
      "                                               % População  % Inadimplência\n",
      "PF - Indisponível                                 7.332208         8.287777\n",
      "PF - Sem rendimento                               5.571899         6.998453\n",
      "PF - Até 1 salário mínimo                         9.833615        12.604435\n",
      "PF - Mais de 1 a 2 salários mínimos              11.513544        13.610108\n",
      "PF - Mais de 2 a 3 salários mínimos              11.785226        13.047963\n",
      "PF - Mais de 3 a 5 salários mínimos              12.936259        12.418773\n",
      "PF - Mais de 5 a 10 salários mínimos             13.807572        12.470346\n",
      "PF - Mais de 10 a 20 salários mínimos            13.486054        11.175864\n",
      "PF - Acima de 20 salários mínimos                13.733623         9.386282\n"
     ]
    }
   ],
   "source": [
    "# analisando o atributo 'renda'\n",
    "\n",
    "# categorias ordenadas\n",
    "categorias_ordenadas = ['PF - Indisponível                            ',\n",
    "                        'PF - Sem rendimento                          ',\n",
    "                        'PF - Até 1 salário mínimo                    ',\n",
    "                        'PF - Mais de 1 a 2 salários mínimos          ',\n",
    "                        'PF - Mais de 2 a 3 salários mínimos          ',\n",
    "                        'PF - Mais de 3 a 5 salários mínimos          ',\n",
    "                        'PF - Mais de 5 a 10 salários mínimos         ',\n",
    "                        'PF - Mais de 10 a 20 salários mínimos        ',\n",
    "                        'PF - Acima de 20 salários mínimos            ']\n",
    "\n",
    "# Tabela com distribuição de população por categoria\n",
    "populacao_por_categoria = dados_clean['renda'].value_counts(normalize=True) * 100\n",
    "populacao_por_categoria = populacao_por_categoria.reindex(categorias_ordenadas)\n",
    "\n",
    "# Tabela com distribuição de inadimplência por categoria\n",
    "distribuicao_inadimplencia = inadimplentes['renda'].value_counts(normalize=True) * 100\n",
    "distribuicao_inadimplencia = distribuicao_inadimplencia.reindex(categorias_ordenadas)\n",
    "\n",
    "populacao = pd.DataFrame({'% População': populacao_por_categoria})\n",
    "inadimplencia = pd.DataFrame({'% Inadimplência': distribuicao_inadimplencia})\n",
    "\n",
    "# juntando as duas tabelas\n",
    "tabela = pd.concat([populacao, inadimplencia], axis=1)\n",
    "tabela = tabela.loc[categorias_ordenadas]\n",
    "print(tabela)"
   ]
  },
  {
   "cell_type": "code",
   "execution_count": 56,
   "id": "4928bfeb-6142-4598-b247-18f3d934cff5",
   "metadata": {},
   "outputs": [
    {
     "data": {
      "image/png": "[encoded data removed]",
      "text/plain": [
       "<Figure size 432x288 with 1 Axes>"
      ]
     },
     "metadata": {
      "needs_background": "light"
     },
     "output_type": "display_data"
    }
   ],
   "source": [
    "# plotando os dados de população e inadimplência por categoria de renda\n",
    "\n",
    "# Define a largura das barras e a posição dos grupos no eixo x\n",
    "bar_width = 0.35\n",
    "r1 = np.arange(len(categorias_ordenadas))\n",
    "r2 = [x + bar_width for x in r1]\n",
    "\n",
    "# Cria a figura e os eixos\n",
    "fig, ax = plt.subplots()\n",
    "\n",
    "# Plota as barras de população e inadimplência\n",
    "populacao_bars = ax.bar(r1, populacao_por_categoria, color='blue', width=bar_width, label='População')\n",
    "inadimplencia_bars = ax.bar(r2, distribuicao_inadimplencia, color='orange', width=bar_width, label='Inadimplência')\n",
    "\n",
    "# Adiciona rótulos, títulos e legendas ao gráfico\n",
    "ax.set_xlabel('Renda')\n",
    "ax.set_ylabel('Percentual')\n",
    "ax.set_title('Distribuição da população e inadimplência por Renda')\n",
    "ax.set_xticks([r + bar_width / 2 for r in range(len(categorias_ordenadas))])\n",
    "ax.set_xticklabels(categorias_ordenadas, rotation=90)\n",
    "ax.legend()\n",
    "\n",
    "# Exibição do gráfico\n",
    "plt.show()"
   ]
  },
  {
   "cell_type": "code",
   "execution_count": 57,
   "id": "10b4e37c-1d7e-4362-8ef0-d80eeb6f0d14",
   "metadata": {},
   "outputs": [
    {
     "name": "stdout",
     "output_type": "stream",
     "text": [
      "                                          % População  % Inadimplência\n",
      "PF - Cartão de crédito                       6.843501         6.864363\n",
      "PF - Empréstimo com consignação em folha     9.594084        11.340897\n",
      "PF - Empréstimo sem consignação em folha    14.505265        18.623002\n",
      "PF - Habitacional                           13.362270         5.482207\n",
      "PF - Outros créditos                        28.140825        36.596184\n",
      "PF - Rural e agroindustrial                 16.892533        11.170707\n",
      "PF - Veículos                               10.661522         9.922641\n"
     ]
    }
   ],
   "source": [
    "# analisando o atributo 'modalidade'\n",
    "# categorias ordenadas\n",
    "categorias_ordenadas = ['PF - Cartão de crédito',\n",
    "                        'PF - Empréstimo com consignação em folha',\n",
    "                        'PF - Empréstimo sem consignação em folha',\n",
    "                        'PF - Habitacional',\n",
    "                        'PF - Outros créditos',\n",
    "                        'PF - Rural e agroindustrial',\n",
    "                        'PF - Veículos']\n",
    "\n",
    "# Tabela com distribuição de população por categoria\n",
    "populacao_por_categoria = dados_clean['modalidade'].value_counts(normalize=True) * 100\n",
    "populacao_por_categoria = populacao_por_categoria.reindex(categorias_ordenadas)\n",
    "\n",
    "# Tabela com distribuição de inadimplência por categoria\n",
    "distribuicao_inadimplencia = inadimplentes['modalidade'].value_counts(normalize=True) * 100\n",
    "distribuicao_inadimplencia = distribuicao_inadimplencia.reindex(categorias_ordenadas)\n",
    "\n",
    "populacao = pd.DataFrame({'% População': populacao_por_categoria})\n",
    "inadimplencia = pd.DataFrame({'% Inadimplência': distribuicao_inadimplencia})\n",
    "\n",
    "# juntando as duas tabelas\n",
    "tabela = pd.concat([populacao, inadimplencia], axis=1)\n",
    "tabela = tabela.loc[categorias_ordenadas]\n",
    "print(tabela)"
   ]
  },
  {
   "cell_type": "code",
   "execution_count": 58,
   "id": "5855495d-8a22-442d-9c79-7600e7db6e4d",
   "metadata": {},
   "outputs": [
    {
     "data": {
      "image/png": "[encoded data removed]",
      "text/plain": [
       "<Figure size 432x288 with 1 Axes>"
      ]
     },
     "metadata": {
      "needs_background": "light"
     },
     "output_type": "display_data"
    }
   ],
   "source": [
    "# plotando os dados de população e inadimplência por categoria de modalidade de empréstimo\n",
    "\n",
    "# Define a largura das barras e a posição dos grupos no eixo x\n",
    "bar_width = 0.35\n",
    "r1 = np.arange(len(categorias_ordenadas))\n",
    "r2 = [x + bar_width for x in r1]\n",
    "\n",
    "# Cria a figura e os eixos\n",
    "fig, ax = plt.subplots()\n",
    "\n",
    "# Plota as barras de população e inadimplência\n",
    "populacao_bars = ax.bar(r1, populacao_por_categoria, color='blue', width=bar_width, label='População')\n",
    "inadimplencia_bars = ax.bar(r2, distribuicao_inadimplencia, color='orange', width=bar_width, label='Inadimplência')\n",
    "\n",
    "# Adiciona rótulos, títulos e legendas ao gráfico\n",
    "ax.set_xlabel('Modalidade de Operação')\n",
    "ax.set_ylabel('Percentual')\n",
    "ax.set_title('Distribuição da população e inadimplência por Modalidade')\n",
    "ax.set_xticks([r + bar_width / 2 for r in range(len(categorias_ordenadas))])\n",
    "ax.set_xticklabels(categorias_ordenadas, rotation=90)\n",
    "ax.legend()\n",
    "\n",
    "# Exibição do gráfico\n",
    "plt.show()"
   ]
  },
  {
   "cell_type": "code",
   "execution_count": 59,
   "id": "c8e06951-0258-40d8-bf8e-14e3af005fc1",
   "metadata": {},
   "outputs": [
    {
     "name": "stdout",
     "output_type": "stream",
     "text": [
      "                    % População  % Inadimplência\n",
      "Prefixado             48.296761        50.562145\n",
      "Pós-fixado            20.945262        28.303249\n",
      "Flutuantes            13.039145         7.441980\n",
      "Índices de preços      9.203440         5.069624\n",
      "TCR/TRFC               1.975725         0.412584\n",
      "Outros indexadores     6.539667         8.210418\n"
     ]
    }
   ],
   "source": [
    "# analisando o atributo 'indexador'\n",
    "# categorias ordenadas\n",
    "categorias_ordenadas = ['Prefixado',\n",
    "                        'Pós-fixado',\n",
    "                        'Flutuantes',\n",
    "                        'Índices de preços',\n",
    "                        'TCR/TRFC',\n",
    "                        'Outros indexadores']\n",
    "\n",
    "# Tabela com distribuição de população por categoria\n",
    "populacao_por_categoria = dados_clean['indexador'].value_counts(normalize=True) * 100\n",
    "populacao_por_categoria = populacao_por_categoria.reindex(categorias_ordenadas)\n",
    "\n",
    "# Tabela com distribuição de inadimplência por categoria\n",
    "distribuicao_inadimplencia = inadimplentes['indexador'].value_counts(normalize=True) * 100\n",
    "distribuicao_inadimplencia = distribuicao_inadimplencia.reindex(categorias_ordenadas)\n",
    "\n",
    "populacao = pd.DataFrame({'% População': populacao_por_categoria})\n",
    "inadimplencia = pd.DataFrame({'% Inadimplência': distribuicao_inadimplencia})\n",
    "\n",
    "# juntando as duas tabelas\n",
    "tabela = pd.concat([populacao, inadimplencia], axis=1)\n",
    "tabela = tabela.loc[categorias_ordenadas]\n",
    "print(tabela)"
   ]
  },
  {
   "cell_type": "code",
   "execution_count": 60,
   "id": "a90444ef-7469-41e7-b4af-cd6b19805b6b",
   "metadata": {},
   "outputs": [
    {
     "data": {
      "image/png": "[encoded data removed]",
      "text/plain": [
       "<Figure size 432x288 with 1 Axes>"
      ]
     },
     "metadata": {
      "needs_background": "light"
     },
     "output_type": "display_data"
    }
   ],
   "source": [
    "# plotando os dados de população e inadimplência por categoria de modalidade de empréstimo\n",
    "\n",
    "# Define a largura das barras e a posição dos grupos no eixo x\n",
    "bar_width = 0.35\n",
    "r1 = np.arange(len(categorias_ordenadas))\n",
    "r2 = [x + bar_width for x in r1]\n",
    "\n",
    "# Cria a figura e os eixos\n",
    "fig, ax = plt.subplots()\n",
    "\n",
    "# Plota as barras de população e inadimplência\n",
    "populacao_bars = ax.bar(r1, populacao_por_categoria, color='blue', width=bar_width, label='População')\n",
    "inadimplencia_bars = ax.bar(r2, distribuicao_inadimplencia, color='orange', width=bar_width, label='Inadimplência')\n",
    "\n",
    "# Adiciona rótulos, títulos e legendas ao gráfico\n",
    "ax.set_xlabel('Indexador')\n",
    "ax.set_ylabel('Percentual')\n",
    "ax.set_title('Distribuição da população e inadimplência por Indexador')\n",
    "ax.set_xticks([r + bar_width / 2 for r in range(len(categorias_ordenadas))])\n",
    "ax.set_xticklabels(categorias_ordenadas, rotation=90)\n",
    "ax.legend()\n",
    "\n",
    "# Exibição do gráfico\n",
    "plt.show()"
   ]
  },
  {
   "cell_type": "markdown",
   "id": "64d420a5-9b78-4d0b-82c9-be81b0b72edb",
   "metadata": {},
   "source": [
    "Analisamos a distribuição da população e da inadimplência por 6 atributos: \"uf\", \"sr\", \"ocupacao\", \"renda\", \"modalidade\" e \"indexador\".\n",
    "\n",
    "Verificamos que no atributo \"uf\", que se refere à Unidade da Federação onde a operação de crédito foi contratada, há uma certa desigualdade na distribuição das operações de crédito quando comparadas com a distribuição da inadimplência. Enquanto se verifica uma menor inadimplência nos estados de MG, SP, PR, SC e RS, nos estados de AP, PA e RR, o inverso se observa. Então, a \"uf\" é uma variável importante à análise.\n",
    "\n",
    "O \"sr\" se refere ao porte do banco, sendo S1 o maior, e S5 o menor. Neste sentido, observa-se que a inadimplência se observa proporcionalmente maior nos grandes bancos, segmentos S1 e S2.\n",
    "\n",
    "O atributo \"ocupacao\" mostra um equilíbrio grande entre a distribuição pela população e a distribuição da inadimplência, de modo que ele pouco reflete no resultado. Em outras palavras, dentre as ocupações listadas, não há uma que seja mais propensa à inadimplência do que outra, se considerarmos as informações deste dataset.\n",
    "\n",
    "No atributo renda, verificamos um certo desbalanceamento, onde a faixa de maior renda (\"Acima de 20 salários mínimos\") possui uma inadimplência proporcionalmente menor, enquanto que as faixas \"Até 1 salário mínimo\" e \"Mais de 1 até 2 salários mínimos\" possuem maior dificuldade de cumprir com o pactuado. Trata-se de uma variável importante, portanto, para a análise.\n",
    "\n",
    "Na \"modalidade\", também verificamos categorias mais problemáticas em termos de inadimplência do que outras. Também se trata de uma variável importante para o estudo.\n",
    "\n",
    "Por fim, no \"indexador\", verificamos uma variação moderada da influência da forma de atualização do saldo devedor sobre a maior ou menor dificuldade de adimplemento das obrigações. "
   ]
  },
  {
   "cell_type": "markdown",
   "id": "d6832b32-1de0-49a4-88cd-0bd41b1a650d",
   "metadata": {},
   "source": [
    "----------------------------------------------------------------------------------------------------------------\n",
    "\n",
    "Voltando à questão do alto índice de inadimplência (cerca de 31%), que não parece razoável. \n",
    "\n",
    "O fato de que os registros podem ter não somente um, mas vários registros ('numero_de_operacoes' até o máximo de 15) está distorcendo os números.\n",
    "\n",
    "Então a simples análise dos registros considerando 0 adimplente e 1 inadimplente ainda não está adequada.\n",
    "Para uma melhor aproximação da realidade, então, vamos eliminar a coluna recém-criada 'inadimplente', e classificar os registros por faixa, o qual denominaremos 'score', que terá como valores '0' (para riscos bons), '1' (para riscos médios) e '2' (para riscos ruins).\n",
    "\n",
    "Embora ainda não seja uma análise ideal (que seria os dados individualizados por operação de crédito), é a melhor aproximação que conseguimos da realidade.\n",
    "\n",
    "Para a classificação dos riscos, consideramos o quociente 'ativo_problematico' / 'carteira_ativa', que mede o quanto os ativos com problemas representam da carteira total em cada registro de nosso banco de dados.\n",
    "Arbitramos como '0' (risco bom) os quocientes de 0% até 5%, '1' (risco médio) os quocientes maiores que 5% e até 13,65%, e '2' (risco ruim) os quocientes maiores que 13,75%.\n",
    "\n",
    "A justificativa para adoção destes percentuais é a seguinte: 5% é a taxa de inadimplência aceitável, conforme se observa em diversos artigos na internet (embora estes não apresentem qual o embasamento para este percentual). 13,65% é a taxa da CDI acumulada de 2022. O CDI é uma das fontes de captação de recursos pelas instituições financeiras. Portanto, ter perdas superiores ao custo de captação representa a duplicação de um prejuízo, se se considerar o custo de oportunidade: mais vale emprestar para outras instituições financeiras do que operar no varejo.\n",
    "\n",
    "Embora a matemática da operação não seja tão simplista, é apenas uma forma para definir uma classificação.\n",
    "Os percentuais abaixo indicados são, portanto, apenas uma sugestão de classificação, podendo ser arbitrados outros."
   ]
  },
  {
   "cell_type": "code",
   "execution_count": 61,
   "id": "c96aea5d-e564-4b7f-9baf-a380f1e80406",
   "metadata": {},
   "outputs": [
    {
     "data": {
      "text/html": [
       "<div>\n",
       "<style scoped>\n",
       "    .dataframe tbody tr th:only-of-type {\n",
       "        vertical-align: middle;\n",
       "    }\n",
       "\n",
       "    .dataframe tbody tr th {\n",
       "        vertical-align: top;\n",
       "    }\n",
       "\n",
       "    .dataframe thead th {\n",
       "        text-align: right;\n",
       "    }\n",
       "</style>\n",
       "<table border=\"1\" class=\"dataframe\">\n",
       "  <thead>\n",
       "    <tr style=\"text-align: right;\">\n",
       "      <th></th>\n",
       "      <th>data_base</th>\n",
       "      <th>uf</th>\n",
       "      <th>tcb</th>\n",
       "      <th>sr</th>\n",
       "      <th>cliente</th>\n",
       "      <th>ocupacao</th>\n",
       "      <th>cnae_secao</th>\n",
       "      <th>cnae_subclasse</th>\n",
       "      <th>renda</th>\n",
       "      <th>modalidade</th>\n",
       "      <th>...</th>\n",
       "      <th>a_vencer_de_1081_ate_1800_dias</th>\n",
       "      <th>a_vencer_de_1801_ate_5400_dias</th>\n",
       "      <th>a_vencer_acima_de_5400_dias</th>\n",
       "      <th>vencido_acima_de_15_dias</th>\n",
       "      <th>carteira_ativa</th>\n",
       "      <th>carteira_inadimplida_arrastada</th>\n",
       "      <th>ativo_problematico</th>\n",
       "      <th>inadimplente</th>\n",
       "      <th>perc_carteira_problema</th>\n",
       "      <th>score</th>\n",
       "    </tr>\n",
       "  </thead>\n",
       "  <tbody>\n",
       "    <tr>\n",
       "      <th>0</th>\n",
       "      <td>2022-12-31</td>\n",
       "      <td>AC</td>\n",
       "      <td>Bancário</td>\n",
       "      <td>S1</td>\n",
       "      <td>PF</td>\n",
       "      <td>PF - Aposentado/pensionista</td>\n",
       "      <td>-</td>\n",
       "      <td>-</td>\n",
       "      <td>PF - Acima de 20 salários mínimos</td>\n",
       "      <td>PF - Cartão de crédito</td>\n",
       "      <td>...</td>\n",
       "      <td>0.0</td>\n",
       "      <td>0.00</td>\n",
       "      <td>0.00</td>\n",
       "      <td>2813.38</td>\n",
       "      <td>16225.85</td>\n",
       "      <td>0.0</td>\n",
       "      <td>0.0</td>\n",
       "      <td>0.0</td>\n",
       "      <td>0.0</td>\n",
       "      <td>0</td>\n",
       "    </tr>\n",
       "    <tr>\n",
       "      <th>4</th>\n",
       "      <td>2022-12-31</td>\n",
       "      <td>AC</td>\n",
       "      <td>Bancário</td>\n",
       "      <td>S1</td>\n",
       "      <td>PF</td>\n",
       "      <td>PF - Aposentado/pensionista</td>\n",
       "      <td>-</td>\n",
       "      <td>-</td>\n",
       "      <td>PF - Acima de 20 salários mínimos</td>\n",
       "      <td>PF - Habitacional</td>\n",
       "      <td>...</td>\n",
       "      <td>447813.3</td>\n",
       "      <td>934450.37</td>\n",
       "      <td>200864.96</td>\n",
       "      <td>0.00</td>\n",
       "      <td>2669678.76</td>\n",
       "      <td>0.0</td>\n",
       "      <td>0.0</td>\n",
       "      <td>0.0</td>\n",
       "      <td>0.0</td>\n",
       "      <td>0</td>\n",
       "    </tr>\n",
       "    <tr>\n",
       "      <th>5</th>\n",
       "      <td>2022-12-31</td>\n",
       "      <td>AC</td>\n",
       "      <td>Bancário</td>\n",
       "      <td>S1</td>\n",
       "      <td>PF</td>\n",
       "      <td>PF - Aposentado/pensionista</td>\n",
       "      <td>-</td>\n",
       "      <td>-</td>\n",
       "      <td>PF - Acima de 20 salários mínimos</td>\n",
       "      <td>PF - Outros créditos</td>\n",
       "      <td>...</td>\n",
       "      <td>0.0</td>\n",
       "      <td>0.00</td>\n",
       "      <td>0.00</td>\n",
       "      <td>198.35</td>\n",
       "      <td>198.35</td>\n",
       "      <td>0.0</td>\n",
       "      <td>0.0</td>\n",
       "      <td>0.0</td>\n",
       "      <td>0.0</td>\n",
       "      <td>0</td>\n",
       "    </tr>\n",
       "    <tr>\n",
       "      <th>7</th>\n",
       "      <td>2022-12-31</td>\n",
       "      <td>AC</td>\n",
       "      <td>Bancário</td>\n",
       "      <td>S1</td>\n",
       "      <td>PF</td>\n",
       "      <td>PF - Aposentado/pensionista</td>\n",
       "      <td>-</td>\n",
       "      <td>-</td>\n",
       "      <td>PF - Acima de 20 salários mínimos</td>\n",
       "      <td>PF - Outros créditos</td>\n",
       "      <td>...</td>\n",
       "      <td>93790.9</td>\n",
       "      <td>125128.87</td>\n",
       "      <td>0.00</td>\n",
       "      <td>0.00</td>\n",
       "      <td>469667.92</td>\n",
       "      <td>0.0</td>\n",
       "      <td>0.0</td>\n",
       "      <td>0.0</td>\n",
       "      <td>0.0</td>\n",
       "      <td>0</td>\n",
       "    </tr>\n",
       "    <tr>\n",
       "      <th>10</th>\n",
       "      <td>2022-12-31</td>\n",
       "      <td>AC</td>\n",
       "      <td>Bancário</td>\n",
       "      <td>S1</td>\n",
       "      <td>PF</td>\n",
       "      <td>PF - Aposentado/pensionista</td>\n",
       "      <td>-</td>\n",
       "      <td>-</td>\n",
       "      <td>PF - Acima de 20 salários mínimos</td>\n",
       "      <td>PF - Rural e agroindustrial</td>\n",
       "      <td>...</td>\n",
       "      <td>0.0</td>\n",
       "      <td>0.00</td>\n",
       "      <td>0.00</td>\n",
       "      <td>0.00</td>\n",
       "      <td>879535.90</td>\n",
       "      <td>0.0</td>\n",
       "      <td>0.0</td>\n",
       "      <td>0.0</td>\n",
       "      <td>0.0</td>\n",
       "      <td>0</td>\n",
       "    </tr>\n",
       "  </tbody>\n",
       "</table>\n",
       "<p>5 rows × 26 columns</p>\n",
       "</div>"
      ],
      "text/plain": [
       "    data_base  uf       tcb  sr cliente                     ocupacao  \\\n",
       "0  2022-12-31  AC  Bancário  S1      PF  PF - Aposentado/pensionista   \n",
       "4  2022-12-31  AC  Bancário  S1      PF  PF - Aposentado/pensionista   \n",
       "5  2022-12-31  AC  Bancário  S1      PF  PF - Aposentado/pensionista   \n",
       "7  2022-12-31  AC  Bancário  S1      PF  PF - Aposentado/pensionista   \n",
       "10 2022-12-31  AC  Bancário  S1      PF  PF - Aposentado/pensionista   \n",
       "\n",
       "   cnae_secao cnae_subclasse                                          renda  \\\n",
       "0           -              -  PF - Acima de 20 salários mínimos               \n",
       "4           -              -  PF - Acima de 20 salários mínimos               \n",
       "5           -              -  PF - Acima de 20 salários mínimos               \n",
       "7           -              -  PF - Acima de 20 salários mínimos               \n",
       "10          -              -  PF - Acima de 20 salários mínimos               \n",
       "\n",
       "                     modalidade  ... a_vencer_de_1081_ate_1800_dias  \\\n",
       "0        PF - Cartão de crédito  ...                            0.0   \n",
       "4             PF - Habitacional  ...                       447813.3   \n",
       "5          PF - Outros créditos  ...                            0.0   \n",
       "7          PF - Outros créditos  ...                        93790.9   \n",
       "10  PF - Rural e agroindustrial  ...                            0.0   \n",
       "\n",
       "   a_vencer_de_1801_ate_5400_dias a_vencer_acima_de_5400_dias  \\\n",
       "0                            0.00                        0.00   \n",
       "4                       934450.37                   200864.96   \n",
       "5                            0.00                        0.00   \n",
       "7                       125128.87                        0.00   \n",
       "10                           0.00                        0.00   \n",
       "\n",
       "    vencido_acima_de_15_dias  carteira_ativa  carteira_inadimplida_arrastada  \\\n",
       "0                    2813.38        16225.85                             0.0   \n",
       "4                       0.00      2669678.76                             0.0   \n",
       "5                     198.35          198.35                             0.0   \n",
       "7                       0.00       469667.92                             0.0   \n",
       "10                      0.00       879535.90                             0.0   \n",
       "\n",
       "    ativo_problematico  inadimplente  perc_carteira_problema  score  \n",
       "0                  0.0           0.0                     0.0      0  \n",
       "4                  0.0           0.0                     0.0      0  \n",
       "5                  0.0           0.0                     0.0      0  \n",
       "7                  0.0           0.0                     0.0      0  \n",
       "10                 0.0           0.0                     0.0      0  \n",
       "\n",
       "[5 rows x 26 columns]"
      ]
     },
     "execution_count": 61,
     "metadata": {},
     "output_type": "execute_result"
    }
   ],
   "source": [
    "# criando uma função para classificar o risco:\n",
    "def get_risk(score):\n",
    "    if score <= bom:\n",
    "        return 0\n",
    "    elif score <= medio:\n",
    "        return 1\n",
    "    else:\n",
    "        return 2\n",
    "\n",
    "# definindo a classificação de risco\n",
    "bom = 0.05  # menor ou igual a 5%\n",
    "medio = 0.1365 # maior que 5% e menor ou igual a 13,65% ## ruim > 13,65%\n",
    "\n",
    "# calculando a classificação de risco, com um atributo provisório \"perc_carteira_problema\"\n",
    "dados_clean['perc_carteira_problema'] = dados_clean['ativo_problematico'] / dados_clean['carteira_ativa']\n",
    "\n",
    "# criando uma coluna \"score\" com a classificação do risco\n",
    "dados_clean['score'] = dados_clean['perc_carteira_problema'].apply(get_risk)\n",
    "dados_clean.head(5)"
   ]
  },
  {
   "cell_type": "code",
   "execution_count": 62,
   "id": "1749bbdf-61cd-49a5-989a-5c642ae32dff",
   "metadata": {},
   "outputs": [
    {
     "data": {
      "text/plain": [
       "0    44887\n",
       "2    15083\n",
       "1     2235\n",
       "Name: score, dtype: int64"
      ]
     },
     "execution_count": 62,
     "metadata": {},
     "output_type": "execute_result"
    }
   ],
   "source": [
    "# contagem dos registros de acordo com a sua classificação\n",
    "\n",
    "dados_clean['score'].value_counts()"
   ]
  },
  {
   "cell_type": "code",
   "execution_count": 63,
   "id": "99d7d05c-732f-41e0-944b-e1c04d411723",
   "metadata": {},
   "outputs": [
    {
     "data": {
      "text/plain": [
       "<AxesSubplot:>"
      ]
     },
     "execution_count": 63,
     "metadata": {},
     "output_type": "execute_result"
    },
    {
     "data": {
      "image/png": "[encoded data removed]",
      "text/plain": [
       "<Figure size 432x288 with 1 Axes>"
      ]
     },
     "metadata": {
      "needs_background": "light"
     },
     "output_type": "display_data"
    }
   ],
   "source": [
    "# a mesma informação, sob a forma gráfica\n",
    "\n",
    "dados_clean['score'].value_counts().plot.bar()"
   ]
  },
  {
   "cell_type": "markdown",
   "id": "c4a679ae-ddbc-48c5-a831-e1e660b9e77f",
   "metadata": {},
   "source": [
    "O procedimento seguinte é converter as colunas categóricas em numéricas. Este procedimento é necessário porque muitas bibliotecas do python para aprendizagem de máquina não conseguem trabalhar com dados categóricos. Assim, para evitar erros durante a execução do projeto, converteremos estes dados para o formato numérico. \n",
    "\n",
    "Nos atributos onde não existe uma ordem de importância dos valores (por exemplo: ocupação), o ideal é trabalhar com dados em formato binário, 0 e 1. Assim, são criadas tantas colunas quanto os valores únicos existentes, cada uma recebendo o valor 0 (se o atributo, para aquele registro, for falso) ou 1 (se verdadeiro). Para isso, usamos a função One Hot Encoder.\n",
    "\n",
    "Já nos atributos onde a ordem dos valores importa (por exemplo, 'porte', que indica a renda), os registros são convertidos para números de 0 até n. Para isso, utilizamos um loop para converter os registros textuais em numeração sequencial."
   ]
  },
  {
   "cell_type": "code",
   "execution_count": 64,
   "id": "e3c78c87-8232-4663-9542-7c72eca78e21",
   "metadata": {},
   "outputs": [],
   "source": [
    "# importando a biblioteca\n",
    "from sklearn.preprocessing import OneHotEncoder\n",
    "\n",
    "# convertendo colunas categóricas em numéricas com OneHotEncoder\n",
    "one_hot = pd.get_dummies(dados_clean['sr'])\n",
    "dados_clean = pd.concat([dados_clean, one_hot], axis=1)"
   ]
  },
  {
   "cell_type": "code",
   "execution_count": 65,
   "id": "1c1ece35-f2a8-45a5-8af4-46fe467fd6ef",
   "metadata": {},
   "outputs": [],
   "source": [
    "one_hot = pd.get_dummies(dados_clean['uf'])\n",
    "dados_clean = pd.concat([dados_clean, one_hot], axis=1)"
   ]
  },
  {
   "cell_type": "code",
   "execution_count": 66,
   "id": "7fe439ac-7af4-4e22-b74f-886b8b6ad95a",
   "metadata": {},
   "outputs": [],
   "source": [
    "one_hot = pd.get_dummies(dados_clean['ocupacao'])\n",
    "dados_clean = pd.concat([dados_clean, one_hot], axis=1)"
   ]
  },
  {
   "cell_type": "code",
   "execution_count": 67,
   "id": "01c6ac56-996b-412e-bec9-ced48789a22f",
   "metadata": {},
   "outputs": [],
   "source": [
    "one_hot = pd.get_dummies(dados_clean['modalidade'])\n",
    "dados_clean = pd.concat([dados_clean, one_hot], axis=1)"
   ]
  },
  {
   "cell_type": "code",
   "execution_count": 68,
   "id": "3cc3c52d-4234-45af-bae0-da123663e79a",
   "metadata": {},
   "outputs": [],
   "source": [
    "one_hot = pd.get_dummies(dados_clean['indexador'])\n",
    "dados_clean = pd.concat([dados_clean, one_hot], axis=1)"
   ]
  },
  {
   "cell_type": "code",
   "execution_count": 69,
   "id": "c8851b4e-cedb-49cd-9242-a929650f45c2",
   "metadata": {},
   "outputs": [
    {
     "data": {
      "text/plain": [
       "6    8589\n",
       "8    8543\n",
       "7    8389\n",
       "5    8047\n",
       "4    7331\n",
       "3    7162\n",
       "2    6117\n",
       "0    4561\n",
       "1    3466\n",
       "Name: cat_renda, dtype: int64"
      ]
     },
     "execution_count": 69,
     "metadata": {},
     "output_type": "execute_result"
    }
   ],
   "source": [
    "# função para categorizar a renda\n",
    "def categoriza_renda(renda):\n",
    "    if renda == 'PF - Indisponível                            ':\n",
    "        return 0\n",
    "    elif renda == 'PF - Sem rendimento                          ':\n",
    "        return 1\n",
    "    elif renda == 'PF - Até 1 salário mínimo                    ':\n",
    "        return 2\n",
    "    elif renda == 'PF - Mais de 1 a 2 salários mínimos          ':\n",
    "        return 3\n",
    "    elif renda == 'PF - Mais de 2 a 3 salários mínimos          ':\n",
    "        return 4\n",
    "    elif renda == 'PF - Mais de 3 a 5 salários mínimos          ':\n",
    "        return 5\n",
    "    elif renda == 'PF - Mais de 5 a 10 salários mínimos         ':\n",
    "        return 6\n",
    "    elif renda == 'PF - Mais de 10 a 20 salários mínimos        ':\n",
    "        return 7\n",
    "    else:\n",
    "        return 8\n",
    "\n",
    "# cria a nova coluna \"cat_renda\" com os valores categorizados\n",
    "dados_clean['cat_renda'] = dados_clean['renda'].apply(categoriza_renda)\n",
    "\n",
    "# conta os valores do novo atributo\n",
    "dados_clean['cat_renda'].value_counts()"
   ]
  },
  {
   "cell_type": "code",
   "execution_count": 70,
   "id": "59e3ab22-9d59-4de5-bec2-d4a99f19bfd4",
   "metadata": {},
   "outputs": [
    {
     "name": "stdout",
     "output_type": "stream",
     "text": [
      "<class 'pandas.core.frame.DataFrame'>\n",
      "Int64Index: 62205 entries, 0 to 135854\n",
      "Data columns (total 76 columns):\n",
      " #   Column                                           Non-Null Count  Dtype  \n",
      "---  ------                                           --------------  -----  \n",
      " 0   uf                                               62205 non-null  object \n",
      " 1   tcb                                              62205 non-null  object \n",
      " 2   sr                                               62205 non-null  object \n",
      " 3   cliente                                          62205 non-null  object \n",
      " 4   ocupacao                                         62205 non-null  object \n",
      " 5   renda                                            62205 non-null  object \n",
      " 6   modalidade                                       62205 non-null  object \n",
      " 7   indexador                                        62205 non-null  object \n",
      " 8   numero_de_operacoes                              62205 non-null  object \n",
      " 9   a_vencer_ate_90_dias                             62205 non-null  float64\n",
      " 10  a_vencer_de_91_ate_360_dias                      62205 non-null  float64\n",
      " 11  a_vencer_de_361_ate_1080_dias                    62205 non-null  float64\n",
      " 12  a_vencer_de_1081_ate_1800_dias                   62205 non-null  float64\n",
      " 13  a_vencer_de_1801_ate_5400_dias                   62205 non-null  float64\n",
      " 14  a_vencer_acima_de_5400_dias                      62205 non-null  float64\n",
      " 15  vencido_acima_de_15_dias                         62205 non-null  float64\n",
      " 16  carteira_ativa                                   62205 non-null  float64\n",
      " 17  carteira_inadimplida_arrastada                   62205 non-null  float64\n",
      " 18  ativo_problematico                               62205 non-null  float64\n",
      " 19  inadimplente                                     62205 non-null  float64\n",
      " 20  perc_carteira_problema                           62205 non-null  float64\n",
      " 21  score                                            62205 non-null  int64  \n",
      " 22  S1                                               62205 non-null  uint8  \n",
      " 23  S2                                               62205 non-null  uint8  \n",
      " 24  S3                                               62205 non-null  uint8  \n",
      " 25  S4                                               62205 non-null  uint8  \n",
      " 26  S5                                               62205 non-null  uint8  \n",
      " 27  AC                                               62205 non-null  uint8  \n",
      " 28  AL                                               62205 non-null  uint8  \n",
      " 29  AM                                               62205 non-null  uint8  \n",
      " 30  AP                                               62205 non-null  uint8  \n",
      " 31  BA                                               62205 non-null  uint8  \n",
      " 32  CE                                               62205 non-null  uint8  \n",
      " 33  DF                                               62205 non-null  uint8  \n",
      " 34  ES                                               62205 non-null  uint8  \n",
      " 35  GO                                               62205 non-null  uint8  \n",
      " 36  MA                                               62205 non-null  uint8  \n",
      " 37  MG                                               62205 non-null  uint8  \n",
      " 38  MS                                               62205 non-null  uint8  \n",
      " 39  MT                                               62205 non-null  uint8  \n",
      " 40  PA                                               62205 non-null  uint8  \n",
      " 41  PB                                               62205 non-null  uint8  \n",
      " 42  PE                                               62205 non-null  uint8  \n",
      " 43  PI                                               62205 non-null  uint8  \n",
      " 44  PR                                               62205 non-null  uint8  \n",
      " 45  RJ                                               62205 non-null  uint8  \n",
      " 46  RN                                               62205 non-null  uint8  \n",
      " 47  RO                                               62205 non-null  uint8  \n",
      " 48  RR                                               62205 non-null  uint8  \n",
      " 49  RS                                               62205 non-null  uint8  \n",
      " 50  SC                                               62205 non-null  uint8  \n",
      " 51  SE                                               62205 non-null  uint8  \n",
      " 52  SP                                               62205 non-null  uint8  \n",
      " 53  TO                                               62205 non-null  uint8  \n",
      " 54  PF - Aposentado/pensionista                      62205 non-null  uint8  \n",
      " 55  PF - Autônomo                                    62205 non-null  uint8  \n",
      " 56  PF - Empregado de empresa privada                62205 non-null  uint8  \n",
      " 57  PF - Empregado de entidades sem fins lucrativos  62205 non-null  uint8  \n",
      " 58  PF - Empresário                                  62205 non-null  uint8  \n",
      " 59  PF - MEI                                         62205 non-null  uint8  \n",
      " 60  PF - Outros                                      62205 non-null  uint8  \n",
      " 61  PF - Servidor ou empregado público               62205 non-null  uint8  \n",
      " 62  PF - Cartão de crédito                           62205 non-null  uint8  \n",
      " 63  PF - Empréstimo com consignação em folha         62205 non-null  uint8  \n",
      " 64  PF - Empréstimo sem consignação em folha         62205 non-null  uint8  \n",
      " 65  PF - Habitacional                                62205 non-null  uint8  \n",
      " 66  PF - Outros créditos                             62205 non-null  uint8  \n",
      " 67  PF - Rural e agroindustrial                      62205 non-null  uint8  \n",
      " 68  PF - Veículos                                    62205 non-null  uint8  \n",
      " 69  Flutuantes                                       62205 non-null  uint8  \n",
      " 70  Outros indexadores                               62205 non-null  uint8  \n",
      " 71  Prefixado                                        62205 non-null  uint8  \n",
      " 72  Pós-fixado                                       62205 non-null  uint8  \n",
      " 73  TCR/TRFC                                         62205 non-null  uint8  \n",
      " 74  Índices de preços                                62205 non-null  uint8  \n",
      " 75  cat_renda                                        62205 non-null  int64  \n",
      "dtypes: float64(12), int64(2), object(9), uint8(53)\n",
      "memory usage: 14.5+ MB\n",
      "None\n"
     ]
    }
   ],
   "source": [
    "# eliminando as colunas que não seram utilizadas em nosso trabalho\n",
    "# a coluna 'data_base' será eliminada porque todos os dados são da mesma data_base (31/12/2022)\n",
    "# as colunas 'cnae_secao' e 'cnae_subclasse' serão eliminadas porque elas se aplicam às pessoas jurídicas\n",
    "# a coluna 'origem' será eliminada uma vez que a modalidade de crédito já define a tipologia de origem\n",
    "dados_clean.drop(['data_base', 'cnae_secao', 'cnae_subclasse', 'origem'], axis=1, inplace = True)\n",
    "print(dados_clean.info())"
   ]
  },
  {
   "cell_type": "markdown",
   "id": "84e31087-0f01-41b0-9855-fa0760317aac",
   "metadata": {},
   "source": [
    "Vamos salvar esta base de dados tratada para um arquivo em Excel.\n",
    "Este arquivo poderá ser trabalho em paralelo para criar visualizações de dados interativas."
   ]
  },
  {
   "cell_type": "code",
   "execution_count": 71,
   "id": "9e3c8b3b-5d10-4e90-a8a4-d0db82e0b2e9",
   "metadata": {},
   "outputs": [],
   "source": [
    "# salvando o arquivo com os dados limpos\n",
    "\n",
    "# nomeando o arquivo Excel\n",
    "file_name = 'dados_clean.xlsx'\n",
    "\n",
    "# salvando em Excel\n",
    "dados_clean.to_excel(\"C:/Users/LUIZK/Dataset BCB Credito/dados_clean.xlsx\")"
   ]
  },
  {
   "cell_type": "markdown",
   "id": "de6d3b41-2e5e-47fd-8b3c-c3a86071bcd3",
   "metadata": {},
   "source": [
    "Na definição das colunas preditoras, foi deliberadamente excluído o campo \"ativo_problematico\". Este atributo, se colocado em conjunto com a \"carteira_ativa\", seria muito indicativo da classe objeto, de modo que não seria útil ao treinamento."
   ]
  },
  {
   "cell_type": "code",
   "execution_count": 72,
   "id": "5c4d401b-9cfd-4d92-a7c0-a8c91c942f12",
   "metadata": {},
   "outputs": [],
   "source": [
    "# definindo as colunas preditoras x e a classe predita y\n",
    "\n",
    "x = np.array(dados_clean[['AC', 'AL', 'AM', 'AP', 'BA', 'CE', 'DF', 'ES', 'GO', 'MA', 'MG', 'MS', 'MT', 'PA', \n",
    "                          'PB', 'PE', 'PI', 'PR', 'RJ', 'RN', 'RO', 'RR', 'RS', 'SC', 'SE', 'SP', 'TO', \n",
    "                          'S1', 'S2', 'S3', 'S4', 'S5',\n",
    "                          'PF - Aposentado/pensionista', \n",
    "                          'PF - Autônomo', \n",
    "                          'PF - Empregado de empresa privada', \n",
    "                          'PF - Empregado de entidades sem fins lucrativos', \n",
    "                          'PF - Empresário', \n",
    "                          'PF - MEI', \n",
    "                          'PF - Outros', \n",
    "                          'PF - Servidor ou empregado público', \n",
    "                          'cat_renda', \n",
    "                          'PF - Cartão de crédito', \n",
    "                          'PF - Empréstimo com consignação em folha', \n",
    "                          'PF - Empréstimo sem consignação em folha', \n",
    "                          'PF - Habitacional', \n",
    "                          'PF - Outros créditos', \n",
    "                          'PF - Rural e agroindustrial', \n",
    "                          'PF - Veículos', \n",
    "                          'Flutuantes', \n",
    "                          'Índices de preços', \n",
    "                          'Outros indexadores', \n",
    "                          'Pós-fixado', \n",
    "                          'Prefixado', \n",
    "                          'TCR/TRFC', \n",
    "                          'vencido_acima_de_15_dias',\n",
    "                          'carteira_inadimplida_arrastada',\n",
    "                          'carteira_ativa']])\n",
    "y = np.array(dados_clean[['score']])\n",
    "y = np.ravel(y)"
   ]
  },
  {
   "cell_type": "code",
   "execution_count": 73,
   "id": "aa034835-3a49-4dfe-942a-e0ddcd876541",
   "metadata": {},
   "outputs": [
    {
     "name": "stdout",
     "output_type": "stream",
     "text": [
      "Dados de treino:  43543\n",
      "Dados de teste:  18662\n"
     ]
    }
   ],
   "source": [
    "# dividindo o dataset em treino e teste\n",
    "# utilizamos 70% da base de dados para treino e 30% para teste\n",
    "\n",
    "# importando a biblioteca\n",
    "from sklearn.model_selection import train_test_split\n",
    "\n",
    "x_treino, x_teste, y_treino, y_teste = train_test_split(x, y, test_size=0.3, random_state=42)\n",
    "print(\"Dados de treino: \", x_treino.shape[0])\n",
    "print(\"Dados de teste: \", x_teste.shape[0])"
   ]
  },
  {
   "cell_type": "code",
   "execution_count": 74,
   "id": "f92587a1-b181-4607-b30c-29247778dd3e",
   "metadata": {},
   "outputs": [
    {
     "name": "stdout",
     "output_type": "stream",
     "text": [
      "Contagem de valores por classe de treino:\n",
      "Classe, Contagem: (0, 31480)\n",
      "Classe, Contagem: (1, 1554)\n",
      "Classe, Contagem: (2, 10509)\n",
      "Contagem de valores por classe de teste:\n",
      "Classe, Contagem: (0, 13407)\n",
      "Classe, Contagem: (1, 681)\n",
      "Classe, Contagem: (2, 4574)\n"
     ]
    }
   ],
   "source": [
    "# imprimindo a distribuição por classes na base de teste\n",
    "\n",
    "# Obter valores únicos e suas contagens\n",
    "valores_treino, contagem_treino = np.unique(y_treino, return_counts=True)\n",
    "valores_teste, contagem_teste = np.unique(y_teste, return_counts=True)\n",
    "\n",
    "# Exibir os valores únicos e suas contagens\n",
    "print(\"Contagem de valores por classe de treino:\")\n",
    "for valor in zip(valores_treino, contagem_treino):\n",
    "    print(f'Classe, Contagem: {valor}')\n",
    "\n",
    "print(\"Contagem de valores por classe de teste:\")\n",
    "for valor in zip(valores_teste, contagem_teste):\n",
    "    print(f'Classe, Contagem: {valor}')"
   ]
  },
  {
   "cell_type": "code",
   "execution_count": 75,
   "id": "cf858664-0b14-486e-8bce-b91d45923c24",
   "metadata": {},
   "outputs": [],
   "source": [
    "# balanceando os dados\n",
    "\n",
    "# dados de inadimplência geralmente resultam em dados não balanceados.\n",
    "# quando uma determinada classe ('classe 0') é bem mais frequente que outra ('classe 1 ou 2'),\n",
    "# os algoritmos de aprendizado de máquina podem induzir à classificação dos dados de acordo com a \n",
    "# classe dominante. Por exemplo, se 99 observações forem positivas, e uma negativa, se o algoritmo\n",
    "# classificar todas como positivas ele terá uma acurácia de 99%. Mas em determinadas situações,\n",
    "# como, por exemplo, na detecção de fraudes, estes 1% não detectados adequadamente podem ser relevantes.\n",
    "# para contornar estes tipos de problema, faz-se um balanceamento da base de dados.\n",
    "\n",
    "# importando a biblioteca\n",
    "from imblearn.over_sampling import RandomOverSampler\n",
    "\n",
    "ros = RandomOverSampler(random_state=42)\n",
    "x_resampled, y_resampled = ros.fit_resample(x_treino, y_treino)\n",
    "x_treino = x_resampled\n",
    "y_treino = y_resampled\n",
    "\n",
    "# o comando a seguir tem a finalidade de definir a saída como uma dimensão única. Dado o \n",
    "# elevado número de atributos, a matriz multidimensional traria complexidade ao processamento.\n",
    "# o comando serve então para afastar possíveis erros na execução do código.\n",
    "\n",
    "y_treino = np.ravel(y_treino)"
   ]
  },
  {
   "cell_type": "code",
   "execution_count": 76,
   "id": "211a2a0a-826d-42dd-a95e-76a0b3349753",
   "metadata": {},
   "outputs": [
    {
     "name": "stdout",
     "output_type": "stream",
     "text": [
      "[0 1 2] [31480 31480 31480]\n",
      "[0 1 2] [13407   681  4574]\n"
     ]
    }
   ],
   "source": [
    "# verificando como ficou o balanceamento da base de treino\n",
    "\n",
    "unico, frequencia = np.unique(y_treino, return_counts = True)\n",
    "print(unico, frequencia)\n",
    "\n",
    "# verificando se o balanceamento não afetou a base de teste\n",
    "\n",
    "unico, frequencia = np.unique(y_teste, return_counts = True)\n",
    "print(unico, frequencia)"
   ]
  },
  {
   "cell_type": "code",
   "execution_count": 77,
   "id": "4745ad44-d8e2-4959-b10f-97dcbe6d5b28",
   "metadata": {},
   "outputs": [
    {
     "name": "stdout",
     "output_type": "stream",
     "text": [
      "{'bootstrap': True, 'ccp_alpha': 0.0, 'class_weight': None, 'criterion': 'gini', 'max_depth': None, 'max_features': 'sqrt', 'max_leaf_nodes': None, 'max_samples': None, 'min_impurity_decrease': 0.0, 'min_samples_leaf': 1, 'min_samples_split': 2, 'min_weight_fraction_leaf': 0.0, 'n_estimators': 100, 'n_jobs': None, 'oob_score': False, 'random_state': None, 'verbose': 0, 'warm_start': False}\n"
     ]
    }
   ],
   "source": [
    "# treinando com o modelo Random Forest e exibindo os hiperparâmetros 'default'\n",
    "\n",
    "# importando a biblioteca\n",
    "from sklearn.ensemble import RandomForestClassifier\n",
    "\n",
    "modelo_RF = RandomForestClassifier()\n",
    "modelo_RF.fit(x_treino, y_treino)\n",
    "y_pred_RF = modelo_RF.predict(x_teste)\n",
    "hiperparametros = modelo_RF.get_params()\n",
    "print(hiperparametros)"
   ]
  },
  {
   "cell_type": "code",
   "execution_count": 78,
   "id": "fbb839f6-8f92-4e8b-96aa-d8f4c7992370",
   "metadata": {},
   "outputs": [
    {
     "name": "stdout",
     "output_type": "stream",
     "text": [
      "Acurácia de Treino : 1.0\n",
      "Acurácia de Teste : 0.8947058193119708\n"
     ]
    }
   ],
   "source": [
    "# medindo a acurácia do modelo Random Forest\n",
    "\n",
    "print(\"Acurácia de Treino :\", modelo_RF.score(x_treino, y_treino))\n",
    "print(\"Acurácia de Teste :\", modelo_RF.score(x_teste, y_teste))"
   ]
  },
  {
   "cell_type": "code",
   "execution_count": 79,
   "id": "e11d249e-1b3d-4a26-9136-e638f4be0a64",
   "metadata": {},
   "outputs": [
    {
     "name": "stdout",
     "output_type": "stream",
     "text": [
      "{'C': 1.0, 'class_weight': None, 'dual': False, 'fit_intercept': True, 'intercept_scaling': 1, 'l1_ratio': None, 'max_iter': 100, 'multi_class': 'auto', 'n_jobs': None, 'penalty': 'l2', 'random_state': None, 'solver': 'lbfgs', 'tol': 0.0001, 'verbose': 0, 'warm_start': False}\n"
     ]
    }
   ],
   "source": [
    "# treinando com o modelo com Regressão Logística e exibindo os hiperparâmetros 'default'\n",
    "\n",
    "# importando a biblioteca\n",
    "from sklearn.linear_model import LogisticRegression\n",
    "\n",
    "modelo_LR = LogisticRegression()\n",
    "modelo_LR.fit(x_treino, y_treino)\n",
    "y_pred_LR = modelo_LR.predict(x_teste)\n",
    "hiperparametros = modelo_LR.get_params()\n",
    "print(hiperparametros)"
   ]
  },
  {
   "cell_type": "code",
   "execution_count": 80,
   "id": "866e5f9b-a96c-4025-b815-26da3e8ae24e",
   "metadata": {},
   "outputs": [
    {
     "name": "stdout",
     "output_type": "stream",
     "text": [
      "Acurácia de Treino : 0.7377276577721305\n",
      "Acurácia de Teste : 0.822902154109956\n"
     ]
    }
   ],
   "source": [
    "# testando a acurácia do modelo\n",
    "\n",
    "print(\"Acurácia de Treino :\", modelo_LR.score(x_treino, y_treino))\n",
    "print(\"Acurácia de Teste :\", modelo_LR.score(x_teste, y_teste))"
   ]
  },
  {
   "cell_type": "code",
   "execution_count": 81,
   "id": "2b33c2bb-d1d6-43f3-af1d-728ddb859848",
   "metadata": {},
   "outputs": [
    {
     "name": "stdout",
     "output_type": "stream",
     "text": [
      "{'objective': 'multi:softprob', 'use_label_encoder': None, 'base_score': None, 'booster': None, 'callbacks': None, 'colsample_bylevel': None, 'colsample_bynode': None, 'colsample_bytree': None, 'early_stopping_rounds': None, 'enable_categorical': False, 'eval_metric': None, 'feature_types': None, 'gamma': None, 'gpu_id': None, 'grow_policy': None, 'importance_type': None, 'interaction_constraints': None, 'learning_rate': None, 'max_bin': None, 'max_cat_threshold': None, 'max_cat_to_onehot': None, 'max_delta_step': None, 'max_depth': None, 'max_leaves': None, 'min_child_weight': None, 'missing': nan, 'monotone_constraints': None, 'n_estimators': 100, 'n_jobs': None, 'num_parallel_tree': None, 'predictor': None, 'random_state': None, 'reg_alpha': None, 'reg_lambda': None, 'sampling_method': None, 'scale_pos_weight': None, 'subsample': None, 'tree_method': None, 'validate_parameters': None, 'verbosity': None}\n"
     ]
    }
   ],
   "source": [
    "# treinando o modelo com XGBoost e exibindo os hiperparâmetros 'default'\n",
    "\n",
    "# importando as bibliotecas\n",
    "# caso não tenha instalado a biblioteca, basta desmarcar o # da linha abaixo\n",
    "\n",
    "# !pip install xgboost\n",
    "from sklearn import metrics\n",
    "import xgboost as xgb\n",
    "\n",
    "modelo_xgb = xgb.XGBClassifier()\n",
    "modelo_xgb.fit(x_treino, y_treino)\n",
    "y_pred_xgb = modelo_xgb.predict(x_teste)\n",
    "hiperparametros = modelo_xgb.get_params()\n",
    "print(hiperparametros)"
   ]
  },
  {
   "cell_type": "code",
   "execution_count": 82,
   "id": "309feb2d-b777-4af1-8999-e9c78b32292d",
   "metadata": {},
   "outputs": [
    {
     "name": "stdout",
     "output_type": "stream",
     "text": [
      "Acurácia de Treino : 0.9118805590851334\n",
      "Acurácia de Teste : 0.8684492551709356\n"
     ]
    }
   ],
   "source": [
    "# testando a acurácia do modelo XGBoost\n",
    "\n",
    "print(\"Acurácia de Treino :\", modelo_xgb.score(x_treino, y_treino))\n",
    "print(\"Acurácia de Teste :\", modelo_xgb.score(x_teste, y_teste))"
   ]
  },
  {
   "cell_type": "markdown",
   "id": "3b0929dc-7dc8-4eb7-914e-1d22b5b35dac",
   "metadata": {},
   "source": [
    "Da análise preliminar destes três modelos (Random Forest, Regressão Logística e XGBoost), observamos que a Regressão Logística apresentou desempenho insatisfatório, de modo que prosseguiremos a análise somente com os outros dois algoritmos.\n",
    "\n",
    "O passo seguinte será tentar melhorar o desempenho com o ajuste de hiperparâmetros. Primeiro, faremos um 'loop' isolado com cada um dos parâmetros mais custosos computacionalmente. Depois, utilizaremos o GridSearchCV para testar o desempenho de opções de outros hiperparâmetros.\n",
    "\n",
    "Isto feito, faremos uma avaliação com uma matriz de confusão, para aprofundar as análises de acurácia do modelo."
   ]
  },
  {
   "cell_type": "code",
   "execution_count": 86,
   "id": "c1bb9e8d-b249-46db-8cd7-1a40630f6d59",
   "metadata": {},
   "outputs": [
    {
     "name": "stdout",
     "output_type": "stream",
     "text": [
      "max_depth =  10\n",
      "Acurácia: 79.11% (+/- 0.33%)\n",
      "max_depth =  20\n",
      "Acurácia: 95.36% (+/- 0.22%)\n",
      "max_depth =  30\n",
      "Acurácia: 97.86% (+/- 0.08%)\n",
      "max_depth =  40\n",
      "Acurácia: 97.97% (+/- 0.04%)\n",
      "max_depth =  50\n",
      "Acurácia: 97.99% (+/- 0.04%)\n"
     ]
    }
   ],
   "source": [
    "# Testar qual parâmetro de profundidade da árvore melhor se ajusta ao modelo Random Forest\n",
    "# ATENÇÃO!! O código a seguir pode demorar vários minutos para rodar, dependendo do ambiente onde é executado\n",
    "\n",
    "# importando as bibliotecas\n",
    "from sklearn.model_selection import KFold, cross_val_score\n",
    "\n",
    "# criando uma função para testar o max_depth\n",
    "def teste_RF(max_depth):\n",
    "    modelo_RF = RandomForestClassifier(max_depth = max_depth, random_state=42)\n",
    "    kf = KFold(n_splits=5, shuffle=True, random_state=42)\n",
    "    scores = cross_val_score(modelo_RF, x_treino, y_treino, cv = kf)\n",
    "    print(\"max_depth = \", i)\n",
    "    print('Acurácia: %.2f%% (+/- %.2f%%)' % (np.mean(scores)*100, np.std(scores)*100))\n",
    "\n",
    "for i in range (10, 51, 10):\n",
    "    teste_RF(i)"
   ]
  },
  {
   "cell_type": "markdown",
   "id": "f3e47540-6e83-4176-aaa3-121a9cd13288",
   "metadata": {},
   "source": [
    "Note que a partir de max_depth 30, o ganho de acurácia é pouco relevante. Considerando o trade-off ganho de acurácia x custo de processamento, optaremos por este número."
   ]
  },
  {
   "cell_type": "code",
   "execution_count": 87,
   "id": "8fdc4076-6a8b-4420-a060-6e6d918e0b60",
   "metadata": {},
   "outputs": [
    {
     "name": "stdout",
     "output_type": "stream",
     "text": [
      "n_estimator =  20\n",
      "Acurácia: 97.85% (+/- 0.08%)\n",
      "n_estimator =  40\n",
      "Acurácia: 97.92% (+/- 0.04%)\n",
      "n_estimator =  60\n",
      "Acurácia: 97.98% (+/- 0.06%)\n",
      "n_estimator =  80\n",
      "Acurácia: 98.01% (+/- 0.04%)\n",
      "n_estimator =  100\n",
      "Acurácia: 97.99% (+/- 0.04%)\n"
     ]
    }
   ],
   "source": [
    "# Testar qual parâmetro de n_estimators melhor se ajusta ao modelo Random Forest\n",
    "# ATENÇÃO!! O código a seguir pode demorar vários minutos para rodar, dependendo do ambiente onde é executado\n",
    "\n",
    "# importando as bibliotecas\n",
    "from sklearn.model_selection import KFold, cross_val_score\n",
    "\n",
    "# criando uma função para testar o n_estimators\n",
    "def teste_RF(n_estimators):\n",
    "    modelo_RF = RandomForestClassifier(n_estimators = n_estimators, random_state=42)\n",
    "    kf = KFold(n_splits=5, shuffle=True, random_state=42)\n",
    "    scores = cross_val_score(modelo_RF, x_treino, y_treino, cv = kf)\n",
    "    print(\"n_estimator = \", i)\n",
    "    print('Acurácia: %.2f%% (+/- %.2f%%)' % (np.mean(scores)*100, np.std(scores)*100))\n",
    "\n",
    "for i in range (20, 101, 20):\n",
    "    teste_RF(i)"
   ]
  },
  {
   "cell_type": "markdown",
   "id": "e09aefef-a657-46fd-809b-cba767a36c2b",
   "metadata": {},
   "source": [
    "Já a partir de n_estimator 20, o ganho de acurácia não é significativo. Após 80, verifica-se, até, um ligeiro decréscimo. Optaremos então pelo n_estimator 20."
   ]
  },
  {
   "cell_type": "code",
   "execution_count": 88,
   "id": "66a155e6-4522-42fa-a699-106e64d636ec",
   "metadata": {},
   "outputs": [
    {
     "name": "stdout",
     "output_type": "stream",
     "text": [
      "min_samples_leaf =  1\n",
      "Acurácia: 97.99% (+/- 0.04%)\n",
      "min_samples_leaf =  2\n",
      "Acurácia: 95.46% (+/- 0.17%)\n",
      "min_samples_leaf =  3\n",
      "Acurácia: 93.90% (+/- 0.20%)\n",
      "min_samples_leaf =  4\n",
      "Acurácia: 92.99% (+/- 0.22%)\n",
      "min_samples_leaf =  5\n",
      "Acurácia: 92.39% (+/- 0.22%)\n",
      "min_samples_leaf =  6\n",
      "Acurácia: 91.82% (+/- 0.34%)\n",
      "min_samples_leaf =  7\n",
      "Acurácia: 91.34% (+/- 0.34%)\n",
      "min_samples_leaf =  8\n",
      "Acurácia: 90.86% (+/- 0.30%)\n",
      "min_samples_leaf =  9\n",
      "Acurácia: 90.30% (+/- 0.26%)\n",
      "min_samples_leaf =  10\n",
      "Acurácia: 89.74% (+/- 0.33%)\n"
     ]
    }
   ],
   "source": [
    "# Testar qual parâmetro de min_samples_leaf melhor se ajusta ao modelo Random Forest\n",
    "# ATENÇÃO!! O código a seguir pode demorar vários minutos para rodar, dependendo do ambiente onde é executado\n",
    "\n",
    "# importando as bibliotecas\n",
    "from sklearn.model_selection import KFold, cross_val_score\n",
    "\n",
    "# criando uma função para testar o min_samples_leaf\n",
    "def teste_RF(min_samples_leaf):\n",
    "    modelo_RF = RandomForestClassifier(min_samples_leaf = min_samples_leaf, random_state=42)\n",
    "    kf = KFold(n_splits=5, shuffle=True, random_state=42)\n",
    "    scores = cross_val_score(modelo_RF, x_treino, y_treino, cv = kf)\n",
    "    print(\"min_samples_leaf = \", i)\n",
    "    print('Acurácia: %.2f%% (+/- %.2f%%)' % (np.mean(scores)*100, np.std(scores)*100))\n",
    "\n",
    "for i in range (1, 11, 1):\n",
    "    teste_RF(i)"
   ]
  },
  {
   "cell_type": "code",
   "execution_count": 90,
   "id": "8551aeb9-687f-43b0-a1a2-ac699f9c54fe",
   "metadata": {},
   "outputs": [
    {
     "name": "stdout",
     "output_type": "stream",
     "text": [
      "min_samples_split =  2\n",
      "Acurácia: 97.99% (+/- 0.04%)\n",
      "min_samples_split =  4\n",
      "Acurácia: 97.33% (+/- 0.07%)\n",
      "min_samples_split =  6\n",
      "Acurácia: 96.90% (+/- 0.05%)\n",
      "min_samples_split =  8\n",
      "Acurácia: 96.46% (+/- 0.07%)\n",
      "min_samples_split =  10\n",
      "Acurácia: 96.02% (+/- 0.10%)\n"
     ]
    }
   ],
   "source": [
    "# Testar qual parâmetro de min_samples_split melhor se ajusta ao modelo Random Forest\n",
    "# ATENÇÃO!! O código a seguir pode demorar vários minutos para rodar, dependendo do ambiente onde é executado\n",
    "\n",
    "# criando uma função para testar o min_samples_split\n",
    "def teste_RF(min_samples_split):\n",
    "    modelo_RF = RandomForestClassifier(\n",
    "        min_samples_split = min_samples_split, random_state=42)\n",
    "    kf = KFold(n_splits=5, shuffle=True, random_state=42)\n",
    "    scores = cross_val_score(modelo_RF, x_treino, y_treino, cv = kf)\n",
    "    print(\"min_samples_split = \", i)\n",
    "    print('Acurácia: %.2f%% (+/- %.2f%%)' % (np.mean(scores)*100, np.std(scores)*100))\n",
    "\n",
    "for i in range (2, 11, 2):\n",
    "    teste_RF(i)"
   ]
  },
  {
   "cell_type": "code",
   "execution_count": 91,
   "id": "af5eab30-8781-4f0d-bd0b-2a24b9ff5f54",
   "metadata": {},
   "outputs": [
    {
     "name": "stdout",
     "output_type": "stream",
     "text": [
      "Melhores hiperparâmetros: {'bootstrap': 'True', 'max_features': 'sqrt'}\n",
      "Acurácia média do modelo: 0.982157983905125\n"
     ]
    }
   ],
   "source": [
    "# buscando os melhores hiperparâmetros para o modelo Random Forest com o GridSearchCV\n",
    "# ATENÇÃO!! O código a seguir pode demorar vários minutos para rodar, dependendo do ambiente onde é executado\n",
    "\n",
    "# importando a biblioteca\n",
    "from sklearn.model_selection import GridSearchCV\n",
    "\n",
    "# Definindo uma lista de valores para max_features e max_depth\n",
    "param_grid = {\n",
    "    'bootstrap': ['True', 'False'],\n",
    "    'max_features': ['sqrt', 'log2', None]\n",
    "}\n",
    "\n",
    "# Criando o objeto GridSearchCV e ajustando os hiperparâmetros\n",
    "modelo_RF = RandomForestClassifier(random_state=42)\n",
    "grid_search = GridSearchCV(modelo_RF, param_grid=param_grid, cv=5)\n",
    "grid_search.fit(x_treino, y_treino)\n",
    "\n",
    "# Imprimindo os melhores hiperparâmetros e a acurácia média do modelo\n",
    "print(\"Melhores hiperparâmetros:\", grid_search.best_params_)\n",
    "print(\"Acurácia média do modelo:\", grid_search.best_score_)"
   ]
  },
  {
   "cell_type": "code",
   "execution_count": 92,
   "id": "4415b5a9-efb4-4a6c-8af8-b8977c3592c9",
   "metadata": {},
   "outputs": [
    {
     "name": "stdout",
     "output_type": "stream",
     "text": [
      "Acurácia de Treino : 0.999428208386277\n",
      "Acurácia de Teste : 0.8915978994748687\n"
     ]
    }
   ],
   "source": [
    "# retreinando o modelo Random Forest com os melhores hiperparâmetros\n",
    "\n",
    "modelo_RF = RandomForestClassifier(\n",
    "    bootstrap = True, n_estimators = 20, max_depth = 30, max_features = 'sqrt', min_samples_leaf = 1, min_samples_split = 2)\n",
    "modelo_RF.fit(x_treino, y_treino)\n",
    "y_pred_RF = modelo_RF.predict(x_teste)\n",
    "print(\"Acurácia de Treino :\", modelo_RF.score(x_treino, y_treino))\n",
    "print(\"Acurácia de Teste :\", modelo_RF.score(x_teste, y_teste))"
   ]
  },
  {
   "cell_type": "markdown",
   "id": "fb861d04-11a3-48c8-997c-b006607e143b",
   "metadata": {},
   "source": [
    "Note que mesmo com o ajuste dos hiperparâmetros, o ganho na acurácia de teste foi praticamente nulo.\n",
    "\n",
    "Seguiremos com a análise da matriz de confusão."
   ]
  },
  {
   "cell_type": "code",
   "execution_count": 93,
   "id": "3f332542-38d7-4f33-a076-7e16d7dd2fac",
   "metadata": {},
   "outputs": [
    {
     "name": "stdout",
     "output_type": "stream",
     "text": [
      "[[12824   147   436]\n",
      " [  242   150   289]\n",
      " [  828    81  3665]]\n"
     ]
    },
    {
     "data": {
      "image/png": "[encoded data removed]",
      "text/plain": [
       "<Figure size 432x288 with 2 Axes>"
      ]
     },
     "metadata": {
      "needs_background": "light"
     },
     "output_type": "display_data"
    }
   ],
   "source": [
    "# matriz de confusão para avaliação do método Random Forest\n",
    "\n",
    "# importando as bibliotecas\n",
    "from sklearn.metrics import confusion_matrix, ConfusionMatrixDisplay\n",
    "\n",
    "# gera e imprime a matriz de confusão\n",
    "cm = confusion_matrix(y_teste, y_pred_RF)\n",
    "print(cm)\n",
    "\n",
    "# Calcular a acurácia para cada categoria\n",
    "total_registros = cm.sum(axis=1)  # Total de registros em cada categoria\n",
    "acuracia_por_categoria = cm.diagonal() / total_registros\n",
    "\n",
    "# Formatar os percentuais como string\n",
    "percentuais_formatados = ['{:.2%}'.format(acuracia) for acuracia in acuracia_por_categoria]\n",
    "\n",
    "# Plot da matriz de confusão com as frequências\n",
    "fig, ax = plt.subplots()\n",
    "im = ax.imshow(cm, cmap=plt.cm.Blues)\n",
    "ax.set_title('Matriz de Confusão Random Forest')\n",
    "ax.set_xticks([0,1,2])\n",
    "ax.set_yticks([0,1,2])\n",
    "ax.set_xticklabels(['Risco Bom', 'Risco Medio', 'Risco Ruim'])\n",
    "ax.set_yticklabels(['Risco Bom', 'Risco Medio', 'Risco Ruim'])\n",
    "ax.set_xlabel('Previsto')\n",
    "ax.set_ylabel('Real')\n",
    "for i in range(3):\n",
    "    for j in range(3):\n",
    "        text = ax.text(j, i, f\"{cm[i, j]}\\n{percentuais_formatados[i]}\", ha=\"center\", va=\"center\", color=\"orange\")\n",
    "#        text = ax.text(j, i, cm[i, j], ha=\"center\", va=\"center\", color=\"orange\")\n",
    "plt.colorbar(im)\n",
    "plt.show()"
   ]
  },
  {
   "cell_type": "code",
   "execution_count": 94,
   "id": "fb75d24b-0ab0-48c1-909d-7ab19c38e723",
   "metadata": {},
   "outputs": [
    {
     "name": "stdout",
     "output_type": "stream",
     "text": [
      "Métricas de Avaliação:\n",
      "Risco Bom: Precisão = 92.30%, Revocação = 95.65%, F1-Score = 93.95%\n",
      "Risco Médio: Precisão = 39.68%, Revocação = 22.03%, F1-Score = 28.33%\n",
      "Risco Ruim: Precisão = 83.49%, Revocação = 80.13%, F1-Score = 81.77%\n",
      "\n",
      "Tabela de Distribuição Preditiva e Real:\n",
      "Categoria\tDistribuição Preditiva\tDistribuição Real\n",
      "Risco Bom\t     13407\t\t71.84%\n",
      "Risco Médio\t       681\t\t3.65%\n",
      "Risco Ruim\t      4574\t\t24.51%\n"
     ]
    }
   ],
   "source": [
    "# cálculo das métricas de avaliação\n",
    "\n",
    "# importando a biblioteca\n",
    "from sklearn.metrics import classification_report\n",
    "\n",
    "# Calcular as métricas de avaliação\n",
    "report = classification_report(y_teste, y_pred_RF, target_names=[\"Risco Bom\", \"Risco Médio\", \"Risco Ruim\"], output_dict=True)\n",
    "\n",
    "# Exibir as métricas de avaliação\n",
    "print(\"Métricas de Avaliação:\")\n",
    "print(\"Risco Bom: Precisão = {:.2%}, Revocação = {:.2%}, F1-Score = {:.2%}\".format(\n",
    "    report[\"Risco Bom\"][\"precision\"], report[\"Risco Bom\"][\"recall\"], report[\"Risco Bom\"][\"f1-score\"]))\n",
    "print(\"Risco Médio: Precisão = {:.2%}, Revocação = {:.2%}, F1-Score = {:.2%}\".format(\n",
    "    report[\"Risco Médio\"][\"precision\"], report[\"Risco Médio\"][\"recall\"], report[\"Risco Médio\"][\"f1-score\"]))\n",
    "print(\"Risco Ruim: Precisão = {:.2%}, Revocação = {:.2%}, F1-Score = {:.2%}\".format(\n",
    "    report[\"Risco Ruim\"][\"precision\"], report[\"Risco Ruim\"][\"recall\"], report[\"Risco Ruim\"][\"f1-score\"]))\n",
    "\n",
    "# Criar a tabela de distribuição predita e real\n",
    "predita = [report[\"Risco Bom\"][\"support\"], report[\"Risco Médio\"][\"support\"], report[\"Risco Ruim\"][\"support\"]]\n",
    "real = [report[\"Risco Bom\"][\"precision\"], report[\"Risco Médio\"][\"precision\"], report[\"Risco Ruim\"][\"precision\"]]\n",
    "percentual_predita = [report[\"Risco Bom\"][\"support\"] / len(y_teste), report[\"Risco Médio\"][\"support\"] / len(y_teste), report[\"Risco Ruim\"][\"support\"] / len(y_teste)]\n",
    "percentual_real = [report[\"Risco Bom\"][\"precision\"], report[\"Risco Médio\"][\"precision\"], report[\"Risco Ruim\"][\"precision\"]]\n",
    "\n",
    "# Exibir a tabela de distribuição predita e real\n",
    "print(\"\\nTabela de Distribuição Preditiva e Real:\")\n",
    "print(\"Categoria\\tDistribuição Preditiva\\tDistribuição Real\")\n",
    "print(\"Risco Bom\\t{:>10}\\t\\t{:.2%}\".format(predita[0], percentual_predita[0]))\n",
    "print(\"Risco Médio\\t{:>10}\\t\\t{:.2%}\".format(predita[1], percentual_predita[1]))\n",
    "print(\"Risco Ruim\\t{:>10}\\t\\t{:.2%}\".format(predita[2], percentual_predita[2]))"
   ]
  },
  {
   "cell_type": "code",
   "execution_count": 96,
   "id": "188ae095-ff4f-4db9-94fd-8bddf98856af",
   "metadata": {},
   "outputs": [
    {
     "name": "stdout",
     "output_type": "stream",
     "text": [
      "max_depth =  5\n",
      "Acurácia: 86.84% (+/- 0.36%)\n",
      "max_depth =  10\n",
      "Acurácia: 96.12% (+/- 0.12%)\n",
      "max_depth =  15\n",
      "Acurácia: 97.88% (+/- 0.07%)\n",
      "max_depth =  20\n",
      "Acurácia: 98.05% (+/- 0.05%)\n"
     ]
    }
   ],
   "source": [
    "# Testar qual parâmetro de max_depth melhor se ajusta ao modelo XGBoost\n",
    "# ATENÇÃO!! O código a seguir pode demorar vários minutos para rodar, dependendo do ambiente onde é executado\n",
    "\n",
    "# importando as bibliotecas\n",
    "from sklearn.model_selection import KFold, cross_val_score\n",
    "\n",
    "# criando uma função para testar o max_depth\n",
    "def teste_xgb(max_depth):\n",
    "    modelo_xgb = xgb.XGBClassifier(max_depth = max_depth, random_state=42)\n",
    "    kf = KFold(n_splits=5, shuffle=True, random_state=42)\n",
    "    scores = cross_val_score(modelo_xgb, x_treino, y_treino, cv = kf)\n",
    "    print(\"max_depth = \", i)\n",
    "    print('Acurácia: %.2f%% (+/- %.2f%%)' % (np.mean(scores)*100, np.std(scores)*100))\n",
    "\n",
    "for i in range (5, 21, 5):\n",
    "    teste_xgb(i)"
   ]
  },
  {
   "cell_type": "code",
   "execution_count": 97,
   "id": "d8e1f093-4501-48b2-915e-236d5263af14",
   "metadata": {},
   "outputs": [
    {
     "name": "stdout",
     "output_type": "stream",
     "text": [
      "reg_alpha =  0\n",
      "Acurácia: 89.89% (+/- 0.38%)\n",
      "reg_alpha =  5\n",
      "Acurácia: 89.82% (+/- 0.21%)\n",
      "reg_alpha =  10\n",
      "Acurácia: 88.86% (+/- 0.15%)\n"
     ]
    }
   ],
   "source": [
    "# Testar qual parâmetro de L1 (reg_alpha) melhor se ajusta ao modelo XGBoost\n",
    "# ATENÇÃO!! O código a seguir pode demorar vários minutos para rodar, dependendo do ambiente onde é executado\n",
    "\n",
    "# importando as bibliotecas\n",
    "from sklearn.model_selection import KFold, cross_val_score\n",
    "\n",
    "# criando uma função para testar o reg_alpha\n",
    "def teste_xgb(reg_alpha):\n",
    "    modelo_xgb = xgb.XGBClassifier(reg_alpha = reg_alpha, random_state=42)\n",
    "    kf = KFold(n_splits=5, shuffle=True, random_state=42)\n",
    "    scores = cross_val_score(modelo_xgb, x_treino, y_treino, cv = kf)\n",
    "    print(\"reg_alpha = \", i)\n",
    "    print('Acurácia: %.2f%% (+/- %.2f%%)' % (np.mean(scores)*100, np.std(scores)*100))\n",
    "\n",
    "for i in range (0, 11, 5):\n",
    "    teste_xgb(i)"
   ]
  },
  {
   "cell_type": "code",
   "execution_count": 99,
   "id": "fc6d9c9d-a90e-4d9c-9a68-779d48404bd3",
   "metadata": {},
   "outputs": [
    {
     "name": "stdout",
     "output_type": "stream",
     "text": [
      "reg_lambda =  0\n",
      "Acurácia: 90.08% (+/- 0.36%)\n",
      "reg_lambda =  1\n",
      "Acurácia: 89.89% (+/- 0.38%)\n",
      "reg_lambda =  2\n",
      "Acurácia: 89.70% (+/- 0.25%)\n",
      "reg_lambda =  3\n",
      "Acurácia: 89.49% (+/- 0.35%)\n",
      "reg_lambda =  4\n",
      "Acurácia: 89.50% (+/- 0.35%)\n"
     ]
    }
   ],
   "source": [
    "# Testar qual parâmetro de L2 (reg_lambda) melhor se ajusta ao modelo XGBoost\n",
    "# ATENÇÃO!! O código a seguir pode demorar vários minutos para rodar, dependendo do ambiente onde é executado\n",
    "\n",
    "# importando as bibliotecas\n",
    "from sklearn.model_selection import KFold, cross_val_score\n",
    "\n",
    "# criando uma função para testar o reg_lambda\n",
    "def teste_xgb(reg_lambda):\n",
    "    modelo_xgb = xgb.XGBClassifier(reg_lambda = reg_lambda, random_state=42)\n",
    "    kf = KFold(n_splits=5, shuffle=True, random_state=42)\n",
    "    scores = cross_val_score(modelo_xgb, x_treino, y_treino, cv = kf)\n",
    "    print(\"reg_lambda = \", i)\n",
    "    print('Acurácia: %.2f%% (+/- %.2f%%)' % (np.mean(scores)*100, np.std(scores)*100))\n",
    "\n",
    "for i in range (0, 5, 1):\n",
    "    teste_xgb(i)"
   ]
  },
  {
   "cell_type": "code",
   "execution_count": 100,
   "id": "d5b08d14-e71b-453a-87f1-c023c1cfe356",
   "metadata": {},
   "outputs": [
    {
     "name": "stdout",
     "output_type": "stream",
     "text": [
      "Melhores hiperparâmetros: {'booster': 'gbtree', 'learning_rate': 0.4}\n",
      "Acurácia média do modelo: 0.9158407454468446\n"
     ]
    }
   ],
   "source": [
    "# testando os hiperparâmetros do XGBoost com o GridSearchCV\n",
    "# ATENÇÃO!! O código a seguir pode demorar vários minutos para rodar, dependendo do ambiente onde é executado\n",
    "\n",
    "# Definindo uma lista de valores para os parâmetros\n",
    "param_grid = {\n",
    "    'booster': ['gblinear', 'gbtree', 'dart'],\n",
    "    'learning_rate': [0.2, 0.3, 0.4]\n",
    "}\n",
    "\n",
    "# Criando o objeto GridSearchCV e ajustando os hiperparâmetros\n",
    "modelo_xgb = xgb.XGBClassifier(random_state=42)\n",
    "grid_search = GridSearchCV(modelo_xgb, param_grid=param_grid, cv=5)\n",
    "grid_search.fit(x_treino, y_treino)\n",
    "\n",
    "# Imprimindo os melhores hiperparâmetros e a acurácia média do modelo\n",
    "print(\"Melhores hiperparâmetros:\", grid_search.best_params_)\n",
    "print(\"Acurácia média do modelo:\", grid_search.best_score_)"
   ]
  },
  {
   "cell_type": "code",
   "execution_count": 102,
   "id": "20879e0c-4dec-4999-9b80-88ccb5a7cf85",
   "metadata": {},
   "outputs": [
    {
     "name": "stdout",
     "output_type": "stream",
     "text": [
      "Acurácia de Treino : 0.9985493434985175\n",
      "Acurácia de Teste : 0.8972778909012967\n"
     ]
    }
   ],
   "source": [
    "# retreinando o modelo XGBoost com os melhores hiperparâmetros\n",
    "\n",
    "modelo_xgb = xgb.XGBClassifier(booster = 'gbtree', n_estimators = 20, max_depth = 30, learning_rate = 0.4,\n",
    "                              subsample = 0.5, colsample_bytree = 1, reg_alpha = 0, reg_lambda = 1,\n",
    "                              min_child_weight = 1)\n",
    "modelo_xgb.fit(x_treino, y_treino)\n",
    "y_pred_xgb = modelo_xgb.predict(x_teste)\n",
    "\n",
    "# testando a acurácia do modelo XGBoost\n",
    "\n",
    "print(\"Acurácia de Treino :\", modelo_xgb.score(x_treino, y_treino))\n",
    "print(\"Acurácia de Teste :\", modelo_xgb.score(x_teste, y_teste))"
   ]
  },
  {
   "cell_type": "code",
   "execution_count": 103,
   "id": "d9802ca0-9741-465d-966d-18123f017dbd",
   "metadata": {},
   "outputs": [
    {
     "name": "stdout",
     "output_type": "stream",
     "text": [
      "[[12895   156   356]\n",
      " [  258   299   124]\n",
      " [  877   146  3551]]\n"
     ]
    },
    {
     "data": {
      "image/png": "[encoded data removed]",
      "text/plain": [
       "<Figure size 432x288 with 2 Axes>"
      ]
     },
     "metadata": {
      "needs_background": "light"
     },
     "output_type": "display_data"
    }
   ],
   "source": [
    "# matriz de confusão para avaliação do método XGBoost\n",
    "\n",
    "# importando as bibliotecas\n",
    "from sklearn.metrics import confusion_matrix, ConfusionMatrixDisplay\n",
    "\n",
    "# gera e imprime a matriz de confusão\n",
    "cm = confusion_matrix(y_teste, y_pred_xgb)\n",
    "print(cm)\n",
    "\n",
    "# Calcular a acurácia para cada categoria\n",
    "total_registros = cm.sum(axis=1)  # Total de registros em cada categoria\n",
    "acuracia_por_categoria = cm.diagonal() / total_registros\n",
    "\n",
    "# Formatar os percentuais como string\n",
    "percentuais_formatados = ['{:.2%}'.format(acuracia) for acuracia in acuracia_por_categoria]\n",
    "\n",
    "# Plot da matriz de confusão com as frequências\n",
    "fig, ax = plt.subplots()\n",
    "im = ax.imshow(cm, cmap=plt.cm.Blues)\n",
    "ax.set_title('Matriz de Confusão XGBoost')\n",
    "ax.set_xticks([0,1,2])\n",
    "ax.set_yticks([0,1,2])\n",
    "ax.set_xticklabels(['Risco Bom', 'Risco Medio', 'Risco Ruim'])\n",
    "ax.set_yticklabels(['Risco Bom', 'Risco Medio', 'Risco Ruim'])\n",
    "ax.set_xlabel('Previsto')\n",
    "ax.set_ylabel('Real')\n",
    "for i in range(3):\n",
    "    for j in range(3):\n",
    "        text = ax.text(j, i, f\"{cm[i, j]}\\n{percentuais_formatados[i]}\", ha=\"center\", va=\"center\", color=\"orange\")\n",
    "#        text = ax.text(j, i, cm[i, j], ha=\"center\", va=\"center\", color=\"orange\")\n",
    "plt.colorbar(im)\n",
    "plt.show()"
   ]
  },
  {
   "cell_type": "code",
   "execution_count": 104,
   "id": "3908b77a-e462-4939-b2b1-e7a0b0b50b71",
   "metadata": {},
   "outputs": [
    {
     "name": "stdout",
     "output_type": "stream",
     "text": [
      "Métricas de Avaliação:\n",
      "Risco Bom: Precisão = 91.91%, Revocação = 96.18%, F1-Score = 94.00%\n",
      "Risco Médio: Precisão = 49.75%, Revocação = 43.91%, F1-Score = 46.65%\n",
      "Risco Ruim: Precisão = 88.09%, Revocação = 77.63%, F1-Score = 82.53%\n",
      "\n",
      "Tabela de Distribuição Preditiva e Real:\n",
      "Categoria\tDistribuição Preditiva\tDistribuição Real\n",
      "Risco Bom\t     13407\t\t91.91%\n",
      "Risco Médio\t       681\t\t3.65%\n",
      "Risco Ruim\t      4574\t\t24.51%\n"
     ]
    }
   ],
   "source": [
    "# cálculo das métricas de avaliação\n",
    "\n",
    "# importando a biblioteca\n",
    "from sklearn.metrics import classification_report\n",
    "\n",
    "# Calcular as métricas de avaliação\n",
    "report = classification_report(y_teste, y_pred_xgb, target_names=[\"Risco Bom\", \"Risco Médio\", \"Risco Ruim\"], output_dict=True)\n",
    "\n",
    "# Exibir as métricas de avaliação\n",
    "print(\"Métricas de Avaliação:\")\n",
    "print(\"Risco Bom: Precisão = {:.2%}, Revocação = {:.2%}, F1-Score = {:.2%}\".format(\n",
    "    report[\"Risco Bom\"][\"precision\"], report[\"Risco Bom\"][\"recall\"], report[\"Risco Bom\"][\"f1-score\"]))\n",
    "print(\"Risco Médio: Precisão = {:.2%}, Revocação = {:.2%}, F1-Score = {:.2%}\".format(\n",
    "    report[\"Risco Médio\"][\"precision\"], report[\"Risco Médio\"][\"recall\"], report[\"Risco Médio\"][\"f1-score\"]))\n",
    "print(\"Risco Ruim: Precisão = {:.2%}, Revocação = {:.2%}, F1-Score = {:.2%}\".format(\n",
    "    report[\"Risco Ruim\"][\"precision\"], report[\"Risco Ruim\"][\"recall\"], report[\"Risco Ruim\"][\"f1-score\"]))\n",
    "\n",
    "# Criar a tabela de distribuição predita e real\n",
    "predita = [report[\"Risco Bom\"][\"support\"], report[\"Risco Médio\"][\"support\"], report[\"Risco Ruim\"][\"support\"]]\n",
    "real = [report[\"Risco Bom\"][\"precision\"], report[\"Risco Médio\"][\"precision\"], report[\"Risco Ruim\"][\"precision\"]]\n",
    "percentual_predita = [report[\"Risco Bom\"][\"support\"] / len(y_teste), report[\"Risco Médio\"][\"support\"] / len(y_teste), report[\"Risco Ruim\"][\"support\"] / len(y_teste)]\n",
    "percentual_real = [report[\"Risco Bom\"][\"precision\"], report[\"Risco Médio\"][\"precision\"], report[\"Risco Ruim\"][\"precision\"]]\n",
    "\n",
    "# Exibir a tabela de distribuição predita e real\n",
    "print(\"\\nTabela de Distribuição Preditiva e Real:\")\n",
    "print(\"Categoria\\tDistribuição Preditiva\\tDistribuição Real\")\n",
    "print(\"Risco Bom\\t{:>10}\\t\\t{:.2%}\".format(predita[0], percentual_real[0]))\n",
    "print(\"Risco Médio\\t{:>10}\\t\\t{:.2%}\".format(predita[1], percentual_predita[1]))\n",
    "print(\"Risco Ruim\\t{:>10}\\t\\t{:.2%}\".format(predita[2], percentual_predita[2]))"
   ]
  },
  {
   "cell_type": "markdown",
   "id": "bbee0c2a-eade-4864-9995-d8244a437dea",
   "metadata": {},
   "source": [
    "Algumas definições:\n",
    "A precisão é a porcentagem de predições positivas que estavam corretas (TP / (TP + FP)), onde TP = Verdadeiro Positivo e FP = Falso Positivo.\n",
    "A Revocação (Recall) é a porcentagem de valores positivos classificados corretamente (TP / (TP + FN)), onde FN = Falso Negativo.\n",
    "Já o F1-Score é a média harmônica entre precisão e revocação (2 * pre * rec) / (pre + rec).\n",
    "\n",
    "Considerações:\n",
    "Note que, ainda que o modelo tenha acertada a classificação para a maioria dos casos (teve mais acertos que erros em qualquer das 3 classes), o desempenho para a classe menos frequente (Risco Médio) não foi tão bom quanto os demais. Isto ocorreu mesmo com o balanceamento dos dados, realizado na fase de tratamento da base.\n",
    "Dentre os motivos para tanto, destacamos a qualidade dos dados. Não que ele tivesse dados inconsistentes ou corrompidos. A questão é que os dados foram importados de uma base aberta ao público, sendo que eles não foram gerados com o propósito específico para análise da inadimplência. Assim, a classe objeto foi resultado de uma construção (a divisão do ativo problemático pela carteira ativa, sendo o resultado dividido por faixas de classificação). Outras informações, que normalmente frequentariam um dataset para análise de crédito, como por exemplo, bens imóveis, idade do tomador ou o valor das parcelas vencidas segregadas por aging (faixa de tempo decorrido do vencimento) não estavam aqui presentes.\n",
    "Além disso, o formato das informações fornecidas pelas instituições ao Banco Central de forma agregada por perfil da operação (ou seja, contendo várias operações num único registro) também contribuiu para o resultado, ainda que tenham sido tomadas medidas para mitigar este impacto (ao considerar apenas os registros com menor número de operações, ou seja, \"<= 15\").\n",
    "De qualquer modo, o exercício foi válido para testar não somente o tratamento preliminar do dataset, como também executar diferentes algoritmos de aprendizado de máquina, com o ajuste de seus hiperparâmetros e avaliação de sua acurácia.\n"
   ]
  }
 ],
 "metadata": {
  "kernelspec": {
   "display_name": "Python 3 (ipykernel)",
   "language": "python",
   "name": "python3"
  },
  "language_info": {
   "codemirror_mode": {
    "name": "ipython",
    "version": 3
   },
   "file_extension": ".py",
   "mimetype": "text/x-python",
   "name": "python",
   "nbconvert_exporter": "python",
   "pygments_lexer": "ipython3",
   "version": "3.9.7"
  }
 },
 "nbformat": 4,
 "nbformat_minor": 5
}
